{
 "cells": [
  {
   "cell_type": "markdown",
   "metadata": {},
   "source": [
    "# Implementing Machine Learning Applications in Pyspark environment: Financial Case"
   ]
  },
  {
   "cell_type": "markdown",
   "metadata": {},
   "source": [
    "Haluk Erhan, McMaster, 2019"
   ]
  },
  {
   "cell_type": "markdown",
   "metadata": {},
   "source": [
    "## Case Statement"
   ]
  },
  {
   "cell_type": "markdown",
   "metadata": {},
   "source": [
    "A leading financial bank is trying to broaden the financial inclusion for the unbanked population by proving a positive and safe borrowing experience. In order to make sure this underserved population has a positive loan experience; it makes use of variety of alternative data—including telco and transactional information—to predict their clients’ repayment abilities.\n",
    "\n",
    "The problem is to develop a solution to ensure that the clients capable of repayment are not rejected and that loans are given with a principal, maturity, and repayment calendar that will empower their clients to be successful. \n"
   ]
  },
  {
   "cell_type": "markdown",
   "metadata": {},
   "source": [
    "## Setting Up Environment"
   ]
  },
  {
   "cell_type": "markdown",
   "metadata": {},
   "source": [
    "Based on the operating system, we can choose the option to install\n",
    "Spark on the system.\n",
    "\n",
    "* Java Installation\n",
    "\n",
    "* Spark Installation\n",
    "\n",
    "* Edit environment variables for your account.\n"
   ]
  },
  {
   "cell_type": "code",
   "execution_count": 30,
   "metadata": {},
   "outputs": [
    {
     "data": {
      "text/plain": [
       "'C:\\\\spark\\\\spark-2.4.3-bin-hadoop2.7'"
      ]
     },
     "execution_count": 30,
     "metadata": {},
     "output_type": "execute_result"
    }
   ],
   "source": [
    "import findspark\n",
    "findspark.init()\n",
    "\n",
    "findspark.find()\n",
    "import pyspark\n",
    "findspark.find()"
   ]
  },
  {
   "cell_type": "markdown",
   "metadata": {},
   "source": [
    "Print environment variables inside jupyter notebook."
   ]
  },
  {
   "cell_type": "code",
   "execution_count": 31,
   "metadata": {},
   "outputs": [
    {
     "name": "stdout",
     "output_type": "stream",
     "text": [
      "C:\\spark\\spark-2.4.3-bin-hadoop2.7\n",
      "C:\\Program Files\\Java\\jdk1.8.0_221\n",
      "C:\\Users\\haluk\\Anaconda3;C:\\Users\\haluk\\Anaconda3\\Library\\mingw-w64\\bin;C:\\Users\\haluk\\Anaconda3\\Library\\usr\\bin;C:\\Users\\haluk\\Anaconda3\\Library\\bin;C:\\Users\\haluk\\Anaconda3\\Scripts;C:\\Program Files (x86)\\Common Files\\Oracle\\Java\\javapath;C:\\Windows\\system32;C:\\Windows;C:\\Windows\\System32\\Wbem;C:\\Windows\\System32\\WindowsPowerShell\\v1.0\\;C:\\Windows\\System32\\OpenSSH\\;C:\\Program Files (x86)\\Intel\\Intel(R) Management Engine Components\\DAL;C:\\Program Files\\Intel\\Intel(R) Management Engine Components\\DAL;C:\\Program Files (x86)\\NVIDIA Corporation\\PhysX\\Common;C:\\Program Files\\NVIDIA Corporation\\NVIDIA NvDLISR;C:\\Program Files\\Java\\jdk1.8.0_221\\bin;C:\\spark\\spark-2.4.3-bin-hadoop2.7\\bin;\n"
     ]
    }
   ],
   "source": [
    "import os\n",
    "print(os.environ['SPARK_HOME'])\n",
    "print(os.environ['JAVA_HOME'])\n",
    "print(os.environ['PATH'])"
   ]
  },
  {
   "cell_type": "markdown",
   "metadata": {},
   "source": [
    "Spark Components\n",
    "\n",
    "* Spark SQL (used in project)\n",
    "* Spark Streaming\n",
    "* Spark MLlib (usel in project)\n",
    "* GraphX"
   ]
  },
  {
   "cell_type": "markdown",
   "metadata": {},
   "source": [
    "Firt we will use Spark SQL\n",
    "\n",
    "This component mainly deals with structured data processing. The key\n",
    "idea is to fetch more information about the structure of the data to perform\n",
    "additional optimization. It can be considered a distributed SQL query\n",
    "engine."
   ]
  },
  {
   "cell_type": "code",
   "execution_count": 32,
   "metadata": {},
   "outputs": [],
   "source": [
    "from pyspark.sql import SparkSession\n",
    "spark=SparkSession.builder.appName('random_forest').getOrCreate()"
   ]
  },
  {
   "cell_type": "code",
   "execution_count": 33,
   "metadata": {},
   "outputs": [],
   "source": [
    "#OTHER REQUIRED PACKAGES\n",
    "import pandas as pd\n",
    "from functools import reduce\n",
    "import time"
   ]
  },
  {
   "cell_type": "code",
   "execution_count": 34,
   "metadata": {},
   "outputs": [
    {
     "name": "stdout",
     "output_type": "stream",
     "text": [
      "0.4697439670562744 sec\n"
     ]
    }
   ],
   "source": [
    "start_time = time.time()\n",
    "df=spark.read.csv('E:\\\\BDA 105\\\\Files\\\\Dataset.csv', inferSchema=True, header=False, sep=',')\n",
    "elapsed_time = time.time() - start_time\n",
    "print (elapsed_time, 'sec')\n"
   ]
  },
  {
   "cell_type": "code",
   "execution_count": 35,
   "metadata": {},
   "outputs": [
    {
     "name": "stdout",
     "output_type": "stream",
     "text": [
      "root\n",
      " |-- _c0: integer (nullable = true)\n",
      " |-- _c1: string (nullable = true)\n",
      " |-- _c2: string (nullable = true)\n",
      " |-- _c3: string (nullable = true)\n",
      " |-- _c4: string (nullable = true)\n",
      " |-- _c5: integer (nullable = true)\n",
      " |-- _c6: double (nullable = true)\n",
      " |-- _c7: double (nullable = true)\n",
      " |-- _c8: double (nullable = true)\n",
      " |-- _c9: string (nullable = true)\n",
      " |-- _c10: string (nullable = true)\n",
      " |-- _c11: string (nullable = true)\n",
      " |-- _c12: string (nullable = true)\n",
      " |-- _c13: integer (nullable = true)\n",
      " |-- _c14: integer (nullable = true)\n",
      " |-- _c15: integer (nullable = true)\n",
      " |-- _c16: integer (nullable = true)\n",
      " |-- _c17: integer (nullable = true)\n",
      " |-- _c18: integer (nullable = true)\n",
      " |-- _c19: integer (nullable = true)\n",
      " |-- _c20: double (nullable = true)\n",
      " |-- _c21: integer (nullable = true)\n",
      " |-- _c22: integer (nullable = true)\n",
      " |-- _c23: integer (nullable = true)\n",
      " |-- _c24: integer (nullable = true)\n",
      " |-- _c25: string (nullable = true)\n",
      " |-- _c26: integer (nullable = true)\n",
      " |-- _c27: integer (nullable = true)\n",
      " |-- _c28: integer (nullable = true)\n",
      " |-- _c29: integer (nullable = true)\n",
      " |-- _c30: integer (nullable = true)\n",
      " |-- _c31: integer (nullable = true)\n",
      " |-- _c32: integer (nullable = true)\n",
      " |-- _c33: integer (nullable = true)\n",
      " |-- _c34: integer (nullable = true)\n",
      " |-- _c35: integer (nullable = true)\n",
      " |-- _c36: integer (nullable = true)\n",
      "\n"
     ]
    }
   ],
   "source": [
    "df.printSchema() "
   ]
  },
  {
   "cell_type": "markdown",
   "metadata": {},
   "source": [
    "The nullable property indicates if the corresponding column can assume null values (true) or not (false)."
   ]
  },
  {
   "cell_type": "code",
   "execution_count": 36,
   "metadata": {},
   "outputs": [],
   "source": [
    "col_names=pd.read_excel('E:\\\\BDA 105\\\\Files\\\\Dataset_Metadata.xlsx')\n",
    "\n",
    "oldColumns=df.schema.names\n",
    "newColumns=col_names['Dataset Metadata']"
   ]
  },
  {
   "cell_type": "markdown",
   "metadata": {},
   "source": [
    "With below code we are converting old column names with the ones given in metadata file. "
   ]
  },
  {
   "cell_type": "code",
   "execution_count": 37,
   "metadata": {},
   "outputs": [],
   "source": [
    "df = reduce(lambda data, idx: data.withColumnRenamed(oldColumns[idx], newColumns[idx]), range(len(oldColumns)), df)"
   ]
  },
  {
   "cell_type": "code",
   "execution_count": 38,
   "metadata": {},
   "outputs": [
    {
     "name": "stdout",
     "output_type": "stream",
     "text": [
      "root\n",
      " |-- TARGET: integer (nullable = true)\n",
      " |-- NAME_CONTRACT_TYPE: string (nullable = true)\n",
      " |-- CODE_GENDER: string (nullable = true)\n",
      " |-- FLAG_OWN_CAR: string (nullable = true)\n",
      " |-- FLAG_OWN_REALTY: string (nullable = true)\n",
      " |-- CNT_CHILDREN: integer (nullable = true)\n",
      " |-- AMT_INCOME_TOTAL: double (nullable = true)\n",
      " |-- AMT_CREDIT: double (nullable = true)\n",
      " |-- AMT_ANNUITY: double (nullable = true)\n",
      " |-- NAME_INCOME_TYPE: string (nullable = true)\n",
      " |-- NAME_EDUCATION_TYPE: string (nullable = true)\n",
      " |-- NAME_FAMILY_STATUS: string (nullable = true)\n",
      " |-- NAME_HOUSING_TYPE: string (nullable = true)\n",
      " |-- DAYS_BIRTH: integer (nullable = true)\n",
      " |-- DAYS_EMPLOYED: integer (nullable = true)\n",
      " |-- OWN_CAR_AGE: integer (nullable = true)\n",
      " |-- FLAG_MOBIL: integer (nullable = true)\n",
      " |-- FLAG_EMP_PHONE: integer (nullable = true)\n",
      " |-- FLAG_WORK_PHONE: integer (nullable = true)\n",
      " |-- FLAG_CONT_MOBILE: integer (nullable = true)\n",
      " |-- FLAG_PHONE: double (nullable = true)\n",
      " |-- OCCUPATION_TYPE: integer (nullable = true)\n",
      " |-- CNT_FAM_MEMBERS: integer (nullable = true)\n",
      " |-- REGION_RATING_CLIENT: integer (nullable = true)\n",
      " |-- REGION_RATING_CLIENT_W_CITY: integer (nullable = true)\n",
      " |-- ORGANIZATION_TYPE: string (nullable = true)\n",
      " |-- REG_REGION_NOT_WORK_REGION: integer (nullable = true)\n",
      " |-- REG_REGION_NOT_LIVE_REGION: integer (nullable = true)\n",
      " |-- FLAG_DOCUMENT_2: integer (nullable = true)\n",
      " |-- FLAG_DOCUMENT_3: integer (nullable = true)\n",
      " |-- FLAG_DOCUMENT_4: integer (nullable = true)\n",
      " |-- FLAG_DOCUMENT_5: integer (nullable = true)\n",
      " |-- FLAG_DOCUMENT_6: integer (nullable = true)\n",
      " |-- FLAG_DOCUMENT_7: integer (nullable = true)\n",
      " |-- FLAG_DOCUMENT_8: integer (nullable = true)\n",
      " |-- FLAG_DOCUMENT_9: integer (nullable = true)\n",
      " |-- FLAG_DOCUMENT_10: integer (nullable = true)\n",
      "\n"
     ]
    }
   ],
   "source": [
    "df.printSchema()"
   ]
  },
  {
   "cell_type": "code",
   "execution_count": 39,
   "metadata": {},
   "outputs": [
    {
     "data": {
      "text/plain": [
       "['TARGET',\n",
       " 'NAME_CONTRACT_TYPE',\n",
       " 'CODE_GENDER',\n",
       " 'FLAG_OWN_CAR',\n",
       " 'FLAG_OWN_REALTY',\n",
       " 'CNT_CHILDREN',\n",
       " 'AMT_INCOME_TOTAL',\n",
       " 'AMT_CREDIT',\n",
       " 'AMT_ANNUITY',\n",
       " 'NAME_INCOME_TYPE',\n",
       " 'NAME_EDUCATION_TYPE',\n",
       " 'NAME_FAMILY_STATUS',\n",
       " 'NAME_HOUSING_TYPE',\n",
       " 'DAYS_BIRTH',\n",
       " 'DAYS_EMPLOYED',\n",
       " 'OWN_CAR_AGE',\n",
       " 'FLAG_MOBIL',\n",
       " 'FLAG_EMP_PHONE',\n",
       " 'FLAG_WORK_PHONE',\n",
       " 'FLAG_CONT_MOBILE',\n",
       " 'FLAG_PHONE',\n",
       " 'OCCUPATION_TYPE',\n",
       " 'CNT_FAM_MEMBERS',\n",
       " 'REGION_RATING_CLIENT',\n",
       " 'REGION_RATING_CLIENT_W_CITY',\n",
       " 'ORGANIZATION_TYPE',\n",
       " 'REG_REGION_NOT_WORK_REGION',\n",
       " 'REG_REGION_NOT_LIVE_REGION',\n",
       " 'FLAG_DOCUMENT_2',\n",
       " 'FLAG_DOCUMENT_3',\n",
       " 'FLAG_DOCUMENT_4',\n",
       " 'FLAG_DOCUMENT_5',\n",
       " 'FLAG_DOCUMENT_6',\n",
       " 'FLAG_DOCUMENT_7',\n",
       " 'FLAG_DOCUMENT_8',\n",
       " 'FLAG_DOCUMENT_9',\n",
       " 'FLAG_DOCUMENT_10']"
      ]
     },
     "execution_count": 39,
     "metadata": {},
     "output_type": "execute_result"
    }
   ],
   "source": [
    "df.columns"
   ]
  },
  {
   "cell_type": "code",
   "execution_count": 40,
   "metadata": {},
   "outputs": [
    {
     "name": "stdout",
     "output_type": "stream",
     "text": [
      "+--------------------------+--------------------+\n",
      "|REG_REGION_NOT_WORK_REGION|   ORGANIZATION_TYPE|\n",
      "+--------------------------+--------------------+\n",
      "|                         0|Business Entity T...|\n",
      "|                         0|              School|\n",
      "|                         0|          Government|\n",
      "+--------------------------+--------------------+\n",
      "only showing top 3 rows\n",
      "\n"
     ]
    }
   ],
   "source": [
    "df.select('REG_REGION_NOT_WORK_REGION','ORGANIZATION_TYPE').show(3)"
   ]
  },
  {
   "cell_type": "code",
   "execution_count": 41,
   "metadata": {},
   "outputs": [
    {
     "name": "stdout",
     "output_type": "stream",
     "text": [
      "+------------------+\n",
      "|NAME_CONTRACT_TYPE|\n",
      "+------------------+\n",
      "|   Revolving loans|\n",
      "|        Cash loans|\n",
      "+------------------+\n",
      "\n"
     ]
    }
   ],
   "source": [
    "df.select('NAME_CONTRACT_TYPE').distinct().show()"
   ]
  },
  {
   "cell_type": "code",
   "execution_count": 42,
   "metadata": {},
   "outputs": [
    {
     "name": "stdout",
     "output_type": "stream",
     "text": [
      "+-------+------------------+------------------+------------------+------------------+\n",
      "|summary|NAME_CONTRACT_TYPE|  AMT_INCOME_TOTAL|        AMT_CREDIT|       AMT_ANNUITY|\n",
      "+-------+------------------+------------------+------------------+------------------+\n",
      "|  count|            307497|            307497|            307497|            307497|\n",
      "|   mean|              null| 168796.2092668709| 599027.0918984575| 27108.54534678387|\n",
      "| stddev|              null|237127.59094150367|402493.94600611844|14493.778986791332|\n",
      "|    min|        Cash loans|           25650.0|           45000.0|            1615.5|\n",
      "|    max|   Revolving loans|            1.17E8|         4050000.0|          258025.5|\n",
      "+-------+------------------+------------------+------------------+------------------+\n",
      "\n"
     ]
    }
   ],
   "source": [
    "df.describe().select('summary','NAME_CONTRACT_TYPE','AMT_INCOME_TOTAL','AMT_CREDIT','AMT_ANNUITY').show()"
   ]
  },
  {
   "cell_type": "code",
   "execution_count": 43,
   "metadata": {},
   "outputs": [
    {
     "name": "stdout",
     "output_type": "stream",
     "text": [
      "+------------------+------+\n",
      "|NAME_CONTRACT_TYPE| count|\n",
      "+------------------+------+\n",
      "|   Revolving loans| 29277|\n",
      "|        Cash loans|278220|\n",
      "+------------------+------+\n",
      "\n"
     ]
    }
   ],
   "source": [
    "df.groupBy('NAME_CONTRACT_TYPE').count().show()"
   ]
  },
  {
   "cell_type": "markdown",
   "metadata": {},
   "source": [
    "Writing data as parquest file for future usage"
   ]
  },
  {
   "cell_type": "markdown",
   "metadata": {},
   "source": [
    "Since the dataset is huge and involves a lot of columns, we can choose to\n",
    "compress it and convert it into a parquet file format. It reduces the overall\n",
    "size of the data and optimizes the performance while processing data\n",
    "because it works on subsets of required columns instead of the entire data. "
   ]
  },
  {
   "cell_type": "code",
   "execution_count": 44,
   "metadata": {},
   "outputs": [],
   "source": [
    "parquet_path='E:\\\\BDA 105\\\\Files\\\\df_parquet'"
   ]
  },
  {
   "cell_type": "code",
   "execution_count": 45,
   "metadata": {},
   "outputs": [],
   "source": [
    "#df.write.format('parquet').save(parquet_path)"
   ]
  },
  {
   "cell_type": "markdown",
   "metadata": {},
   "source": [
    "# Data Processing and Feature Engineering"
   ]
  },
  {
   "cell_type": "markdown",
   "metadata": {},
   "source": [
    "Data processing is a critical step required to perform Machine\n",
    "Learning as we need to clean, filter, merge, and transform our data to bring\n",
    "it to the desired form so that we are able to train Machine Learning models.\n",
    "We will make use of multiple PySpark functions to perform data processing."
   ]
  },
  {
   "cell_type": "markdown",
   "metadata": {},
   "source": [
    "Since machine learning models only consume data in a\n",
    "numerical format, we have to adopt some technique to convert the\n",
    "categorical data in a numerical form."
   ]
  },
  {
   "cell_type": "markdown",
   "metadata": {},
   "source": [
    "This is the part where we convert the categorical variable into numerical\n",
    "form and create a single vector combining all the input features by using\n",
    "Spark’s VectorAssembler."
   ]
  },
  {
   "cell_type": "markdown",
   "metadata": {},
   "source": [
    "The process includes Category Indexing, One-Hot Encoding and VectorAssembler a feature transformer that merges multiple columns into a vector column."
   ]
  },
  {
   "cell_type": "code",
   "execution_count": 46,
   "metadata": {},
   "outputs": [],
   "source": [
    "from pyspark.sql.functions import isnan, when, count, col"
   ]
  },
  {
   "cell_type": "code",
   "execution_count": 47,
   "metadata": {},
   "outputs": [],
   "source": [
    "from pyspark.ml.feature import StringIndexer\n",
    "from pyspark.ml.feature import VectorAssembler\n",
    "from pyspark.ml.feature import OneHotEncoder\n"
   ]
  },
  {
   "cell_type": "markdown",
   "metadata": {},
   "source": [
    "Dummy Variables\n",
    "\n",
    "Since machine learning models only consume data in a\n",
    "numerical format, we have to adopt some technique to convert the\n",
    "categorical data in a numerical form. We have to convert  into a numerical format using\n",
    "dummification. As a result, we would get an additional number of dummy\n",
    "variables (columns), which would be equal to the number of distinct\n",
    "categories. \n",
    "\n",
    "The whole idea is to represent the same information in a different\n",
    "manner so that the Machine Learning model can learn from categorical\n",
    "values as well.\n",
    "\n"
   ]
  },
  {
   "cell_type": "markdown",
   "metadata": {},
   "source": [
    "The first step is to label the column using StringIndexer into\n",
    "numerical form. It allocates unique values to each of the categories of the\n",
    "column."
   ]
  },
  {
   "cell_type": "markdown",
   "metadata": {},
   "source": [
    "NAME_CONTRACT_TYPE: Identification if loan is cash or revloving"
   ]
  },
  {
   "cell_type": "code",
   "execution_count": 48,
   "metadata": {},
   "outputs": [
    {
     "data": {
      "text/plain": [
       "0"
      ]
     },
     "execution_count": 48,
     "metadata": {},
     "output_type": "execute_result"
    }
   ],
   "source": [
    "df.filter(df['NAME_CONTRACT_TYPE'].isNull()).count()"
   ]
  },
  {
   "cell_type": "code",
   "execution_count": 49,
   "metadata": {},
   "outputs": [
    {
     "name": "stdout",
     "output_type": "stream",
     "text": [
      "+------------------+---+\n",
      "|NAME_CONTRACT_TYPE|NCT|\n",
      "+------------------+---+\n",
      "|   Revolving loans|1.0|\n",
      "|        Cash loans|0.0|\n",
      "+------------------+---+\n",
      "\n"
     ]
    }
   ],
   "source": [
    "NCT_indexer=StringIndexer(inputCol='NAME_CONTRACT_TYPE', outputCol='NCT').fit(df)\n",
    "df=NCT_indexer.transform(df)\n",
    "df.select('NAME_CONTRACT_TYPE','NCT').distinct().show()"
   ]
  },
  {
   "cell_type": "markdown",
   "metadata": {},
   "source": [
    "The next step is to represent each of these values into the form of a\n",
    "one hot encoded vector. However, this vector is a little different in terms of\n",
    "representation as it captures the values and position of the values in the vector."
   ]
  },
  {
   "cell_type": "code",
   "execution_count": 50,
   "metadata": {},
   "outputs": [],
   "source": [
    "NCT_encoder=OneHotEncoder(inputCol=\"NCT\", outputCol=\"NCT_Vector\")"
   ]
  },
  {
   "cell_type": "code",
   "execution_count": 51,
   "metadata": {},
   "outputs": [],
   "source": [
    "df = NCT_encoder.transform(df)"
   ]
  },
  {
   "cell_type": "code",
   "execution_count": 52,
   "metadata": {},
   "outputs": [
    {
     "name": "stdout",
     "output_type": "stream",
     "text": [
      "+------------------+---+-------------+\n",
      "|NAME_CONTRACT_TYPE|NCT|   NCT_Vector|\n",
      "+------------------+---+-------------+\n",
      "|   Revolving loans|1.0|    (1,[],[])|\n",
      "|        Cash loans|0.0|(1,[0],[1.0])|\n",
      "+------------------+---+-------------+\n",
      "\n"
     ]
    }
   ],
   "source": [
    "df.select('NAME_CONTRACT_TYPE','NCT','NCT_Vector').distinct().show()"
   ]
  },
  {
   "cell_type": "markdown",
   "metadata": {},
   "source": [
    "The final feature that we would be using for building Logistic\n",
    "Regression is NCT_Vector. \n",
    "\n",
    "Cash Loans\n",
    "* 1 : size of vector\n",
    "* 0 :value contained in vector\n",
    "* 1.0 : position of value in vector"
   ]
  },
  {
   "cell_type": "markdown",
   "metadata": {},
   "source": [
    "This kind of representation allows the saving of computational space\n",
    "and hence a faster time to compute. The length of the vector is equal to\n",
    "one less than the total number of elements since each value can be easily\n",
    "represented with just the help of two columns."
   ]
  },
  {
   "cell_type": "markdown",
   "metadata": {},
   "source": [
    "CODE_GENDER: Gender of client"
   ]
  },
  {
   "cell_type": "code",
   "execution_count": 53,
   "metadata": {},
   "outputs": [
    {
     "data": {
      "text/plain": [
       "0"
      ]
     },
     "execution_count": 53,
     "metadata": {},
     "output_type": "execute_result"
    }
   ],
   "source": [
    "df.filter(df['CODE_GENDER'].isNull()).count()"
   ]
  },
  {
   "cell_type": "code",
   "execution_count": 54,
   "metadata": {},
   "outputs": [
    {
     "name": "stdout",
     "output_type": "stream",
     "text": [
      "+-----------+\n",
      "|CODE_GENDER|\n",
      "+-----------+\n",
      "|          F|\n",
      "|          M|\n",
      "|        XNA|\n",
      "+-----------+\n",
      "\n"
     ]
    }
   ],
   "source": [
    "df.select('CODE_GENDER').distinct().show()"
   ]
  },
  {
   "cell_type": "markdown",
   "metadata": {},
   "source": [
    "We have some XNA value which do not correspont with gender data. Let's deal with them. "
   ]
  },
  {
   "cell_type": "code",
   "execution_count": 55,
   "metadata": {},
   "outputs": [
    {
     "data": {
      "text/plain": [
       "4"
      ]
     },
     "execution_count": 55,
     "metadata": {},
     "output_type": "execute_result"
    }
   ],
   "source": [
    "df.filter(df['CODE_GENDER']=='XNA').count()"
   ]
  },
  {
   "cell_type": "markdown",
   "metadata": {},
   "source": [
    "Since the number of irreklevant data is low we can treat them by dropping. "
   ]
  },
  {
   "cell_type": "code",
   "execution_count": 56,
   "metadata": {},
   "outputs": [],
   "source": [
    "df=df.filter(df['CODE_GENDER']!='XNA')"
   ]
  },
  {
   "cell_type": "code",
   "execution_count": 57,
   "metadata": {},
   "outputs": [
    {
     "name": "stdout",
     "output_type": "stream",
     "text": [
      "+-----------+------+\n",
      "|CODE_GENDER|GENDER|\n",
      "+-----------+------+\n",
      "|          M|   1.0|\n",
      "|          F|   0.0|\n",
      "+-----------+------+\n",
      "\n"
     ]
    }
   ],
   "source": [
    "GENDER_indexer=StringIndexer(inputCol='CODE_GENDER', outputCol='GENDER').fit(df)\n",
    "df=GENDER_indexer.transform(df)\n",
    "df.select('CODE_GENDER','GENDER').distinct().show()"
   ]
  },
  {
   "cell_type": "code",
   "execution_count": 58,
   "metadata": {},
   "outputs": [
    {
     "name": "stdout",
     "output_type": "stream",
     "text": [
      "+-----------+------+-------------+\n",
      "|CODE_GENDER|GENDER|GENDER_Vector|\n",
      "+-----------+------+-------------+\n",
      "|          M|   1.0|    (1,[],[])|\n",
      "|          F|   0.0|(1,[0],[1.0])|\n",
      "+-----------+------+-------------+\n",
      "\n"
     ]
    }
   ],
   "source": [
    "GENDER_encoder=OneHotEncoder(inputCol=\"GENDER\", outputCol=\"GENDER_Vector\")\n",
    "df = GENDER_encoder.transform(df)\n",
    "df.select('CODE_GENDER','GENDER','GENDER_Vector').distinct().show()"
   ]
  },
  {
   "cell_type": "markdown",
   "metadata": {},
   "source": [
    "FLAG_OWN_CAR: Flag if the client owns the car"
   ]
  },
  {
   "cell_type": "code",
   "execution_count": 59,
   "metadata": {},
   "outputs": [
    {
     "data": {
      "text/plain": [
       "0"
      ]
     },
     "execution_count": 59,
     "metadata": {},
     "output_type": "execute_result"
    }
   ],
   "source": [
    "df.filter(df['FLAG_OWN_CAR'].isNull()).count()"
   ]
  },
  {
   "cell_type": "code",
   "execution_count": 60,
   "metadata": {},
   "outputs": [
    {
     "name": "stdout",
     "output_type": "stream",
     "text": [
      "+------------+---+\n",
      "|FLAG_OWN_CAR|CAR|\n",
      "+------------+---+\n",
      "|           Y|1.0|\n",
      "|           N|0.0|\n",
      "+------------+---+\n",
      "\n"
     ]
    }
   ],
   "source": [
    "CAR_indexer=StringIndexer(inputCol='FLAG_OWN_CAR', outputCol='CAR').fit(df)\n",
    "df=CAR_indexer.transform(df)\n",
    "df.select('FLAG_OWN_CAR','CAR').distinct().show()"
   ]
  },
  {
   "cell_type": "code",
   "execution_count": 61,
   "metadata": {},
   "outputs": [
    {
     "name": "stdout",
     "output_type": "stream",
     "text": [
      "+------------+---+-------------+\n",
      "|FLAG_OWN_CAR|CAR|   CAR_Vector|\n",
      "+------------+---+-------------+\n",
      "|           Y|1.0|    (1,[],[])|\n",
      "|           N|0.0|(1,[0],[1.0])|\n",
      "+------------+---+-------------+\n",
      "\n"
     ]
    }
   ],
   "source": [
    "CAR_encoder=OneHotEncoder(inputCol=\"CAR\", outputCol=\"CAR_Vector\")\n",
    "df = CAR_encoder.transform(df)\n",
    "df.select('FLAG_OWN_CAR','CAR','CAR_Vector').distinct().show()"
   ]
  },
  {
   "cell_type": "markdown",
   "metadata": {},
   "source": [
    "FLAG_OWN_REALTY: Flag if client owns a house or flat"
   ]
  },
  {
   "cell_type": "code",
   "execution_count": 62,
   "metadata": {},
   "outputs": [
    {
     "name": "stdout",
     "output_type": "stream",
     "text": [
      "+---------------+\n",
      "|FLAG_OWN_REALTY|\n",
      "+---------------+\n",
      "|              Y|\n",
      "|              N|\n",
      "+---------------+\n",
      "\n"
     ]
    }
   ],
   "source": [
    "df.select('FLAG_OWN_REALTY').distinct().show()"
   ]
  },
  {
   "cell_type": "code",
   "execution_count": 63,
   "metadata": {},
   "outputs": [
    {
     "data": {
      "text/plain": [
       "0"
      ]
     },
     "execution_count": 63,
     "metadata": {},
     "output_type": "execute_result"
    }
   ],
   "source": [
    "df.filter(df['FLAG_OWN_REALTY'].isNull()).count()"
   ]
  },
  {
   "cell_type": "code",
   "execution_count": 64,
   "metadata": {},
   "outputs": [
    {
     "name": "stdout",
     "output_type": "stream",
     "text": [
      "+---------------+-----+\n",
      "|FLAG_OWN_REALTY|HOUSE|\n",
      "+---------------+-----+\n",
      "|              Y|  0.0|\n",
      "|              N|  1.0|\n",
      "+---------------+-----+\n",
      "\n"
     ]
    }
   ],
   "source": [
    "HOUSE_indexer=StringIndexer(inputCol='FLAG_OWN_REALTY', outputCol='HOUSE').fit(df)\n",
    "df=HOUSE_indexer.transform(df)\n",
    "df.select('FLAG_OWN_REALTY','HOUSE').distinct().show()"
   ]
  },
  {
   "cell_type": "code",
   "execution_count": 65,
   "metadata": {},
   "outputs": [],
   "source": [
    "HOUSE_encoder=OneHotEncoder(inputCol=\"HOUSE\", outputCol=\"HOUSE_Vector\")\n",
    "df = HOUSE_encoder.transform(df)"
   ]
  },
  {
   "cell_type": "markdown",
   "metadata": {},
   "source": [
    "CNT_CHILDREN:Number of children the client has"
   ]
  },
  {
   "cell_type": "code",
   "execution_count": 66,
   "metadata": {},
   "outputs": [
    {
     "name": "stdout",
     "output_type": "stream",
     "text": [
      "+------------+\n",
      "|CNT_CHILDREN|\n",
      "+------------+\n",
      "|          19|\n",
      "|          14|\n",
      "|          12|\n",
      "|          11|\n",
      "|          10|\n",
      "|           9|\n",
      "|           8|\n",
      "|           7|\n",
      "|           6|\n",
      "|           5|\n",
      "|           4|\n",
      "|           3|\n",
      "|           2|\n",
      "|           1|\n",
      "|           0|\n",
      "+------------+\n",
      "\n"
     ]
    }
   ],
   "source": [
    "df.select('CNT_CHILDREN').distinct().orderBy(\"CNT_CHILDREN\", ascending=False).show()"
   ]
  },
  {
   "cell_type": "code",
   "execution_count": 67,
   "metadata": {},
   "outputs": [
    {
     "data": {
      "text/plain": [
       "12"
      ]
     },
     "execution_count": 67,
     "metadata": {},
     "output_type": "execute_result"
    }
   ],
   "source": [
    "df.filter(df['CNT_CHILDREN']>8).count()"
   ]
  },
  {
   "cell_type": "markdown",
   "metadata": {},
   "source": [
    "The number of children of an household more than 8 is assumed to be an irrelevant value, so we will drop them in order to retrive logical solutions."
   ]
  },
  {
   "cell_type": "code",
   "execution_count": 68,
   "metadata": {},
   "outputs": [],
   "source": [
    "df=df.filter(df['CNT_CHILDREN']<8)"
   ]
  },
  {
   "cell_type": "code",
   "execution_count": 69,
   "metadata": {},
   "outputs": [
    {
     "data": {
      "text/plain": [
       "307479"
      ]
     },
     "execution_count": 69,
     "metadata": {},
     "output_type": "execute_result"
    }
   ],
   "source": [
    "df.count()"
   ]
  },
  {
   "cell_type": "markdown",
   "metadata": {},
   "source": [
    "AMT_INCOME_TOTAL: Income of the client"
   ]
  },
  {
   "cell_type": "markdown",
   "metadata": {},
   "source": [
    "DEALING WITH OUTLIERS\n",
    "\n",
    "Before we tackle how to handle them, let’s quickly define what an outlier is.  An outlier is any data point that is distinctly different from the rest of your data points. When you’re looking at a variable that is relatively normally distributed. While this will suffice as a working definition, there’s no golden rule for defining what an outlier is.\n",
    "\n",
    "In general, outliers belong to one of two categories: a mistake in the data or a true outlier. The first type, a mistake in the data, could be as simple as typing 300 rather than 3.0 – resulting in a big shift as we’re analyzing the data later on. The second type, a true outlier, would be something like finding extreme values in the dataset. It’s important to distinguish these types because we’ll handle them differently in an analysis. It’s subjective. "
   ]
  },
  {
   "cell_type": "code",
   "execution_count": 70,
   "metadata": {},
   "outputs": [
    {
     "name": "stdout",
     "output_type": "stream",
     "text": [
      "+-------+------------------+\n",
      "|summary|  AMT_INCOME_TOTAL|\n",
      "+-------+------------------+\n",
      "|  count|            307479|\n",
      "|   mean|168796.41686402974|\n",
      "| stddev| 237133.5836665803|\n",
      "|    min|           25650.0|\n",
      "|    max|            1.17E8|\n",
      "+-------+------------------+\n",
      "\n"
     ]
    }
   ],
   "source": [
    "df_income=df.select('AMT_INCOME_TOTAL')\n",
    "df_income.describe().show()"
   ]
  },
  {
   "cell_type": "code",
   "execution_count": 71,
   "metadata": {},
   "outputs": [
    {
     "data": {
      "text/plain": [
       "880197.1678638293"
      ]
     },
     "execution_count": 71,
     "metadata": {},
     "output_type": "execute_result"
    }
   ],
   "source": [
    "df_income.toPandas()['AMT_INCOME_TOTAL'].mean()+3*df_income.toPandas()['AMT_INCOME_TOTAL'].std()"
   ]
  },
  {
   "cell_type": "markdown",
   "metadata": {},
   "source": [
    "This is a common rule that the value out ot 3 times std dev from mean can be considered as outlier. But this seems invalid for this case. "
   ]
  },
  {
   "cell_type": "code",
   "execution_count": 72,
   "metadata": {},
   "outputs": [],
   "source": [
    "import seaborn as sns\n",
    "sns.set(style=\"whitegrid\")\n",
    "ax=sns.boxplot(y=df_income.toPandas()[\"AMT_INCOME_TOTAL\"],palette='Set3')\n"
   ]
  },
  {
   "cell_type": "markdown",
   "metadata": {},
   "source": [
    "As seen in the boxplot, income values has outiler which can be assumed more then 200000. So, in order to get reasonable data we will drop the annual inco over that cut off value. "
   ]
  },
  {
   "cell_type": "code",
   "execution_count": 73,
   "metadata": {},
   "outputs": [
    {
     "data": {
      "image/png": "[encoded data removed]",
      "text/plain": [
       "<Figure size 432x288 with 1 Axes>"
      ]
     },
     "metadata": {
      "needs_background": "light"
     },
     "output_type": "display_data"
    }
   ],
   "source": [
    "df_income=df_income.filter(df_income['AMT_INCOME_TOTAL']<200000)\n",
    "ax=sns.boxplot(y=df_income.toPandas()[\"AMT_INCOME_TOTAL\"],palette='Set3')\n"
   ]
  },
  {
   "cell_type": "code",
   "execution_count": 74,
   "metadata": {},
   "outputs": [
    {
     "data": {
      "text/plain": [
       "<matplotlib.axes._subplots.AxesSubplot at 0x271eb961dd8>"
      ]
     },
     "execution_count": 74,
     "metadata": {},
     "output_type": "execute_result"
    },
    {
     "data": {
      "image/png": "[encoded data removed]",
      "text/plain": [
       "<Figure size 432x288 with 1 Axes>"
      ]
     },
     "metadata": {
      "needs_background": "light"
     },
     "output_type": "display_data"
    }
   ],
   "source": [
    "#sns.kdeplot(df_income.toPandas()[\"AMT_INCOME_TOTAL\"], shade=True)\n",
    "#plt.hist(df_income.toPandas()[\"AMT_INCOME_TOTAL\"], density=True, alpha=0.5)\n",
    "sns.distplot(df_income.toPandas()[\"AMT_INCOME_TOTAL\"])"
   ]
  },
  {
   "cell_type": "markdown",
   "metadata": {},
   "source": [
    "As seen in the plot, we need to assign a cut off range in terms of annual income below 200000."
   ]
  },
  {
   "cell_type": "code",
   "execution_count": 75,
   "metadata": {},
   "outputs": [],
   "source": [
    "df=df.filter(df[\"AMT_INCOME_TOTAL\"]<200000)"
   ]
  },
  {
   "cell_type": "code",
   "execution_count": 76,
   "metadata": {},
   "outputs": [
    {
     "data": {
      "text/plain": [
       "219578"
      ]
     },
     "execution_count": 76,
     "metadata": {},
     "output_type": "execute_result"
    }
   ],
   "source": [
    "df.count()"
   ]
  },
  {
   "cell_type": "code",
   "execution_count": 77,
   "metadata": {},
   "outputs": [
    {
     "name": "stdout",
     "output_type": "stream",
     "text": [
      "We are still keeping 0.71 of whole dataset\n"
     ]
    }
   ],
   "source": [
    "print('We are still keeping', round(df.count()/307493,2), 'of whole dataset')"
   ]
  },
  {
   "cell_type": "markdown",
   "metadata": {},
   "source": [
    "AMT_CREDIT: Credit amount of the loan"
   ]
  },
  {
   "cell_type": "code",
   "execution_count": 78,
   "metadata": {},
   "outputs": [
    {
     "name": "stdout",
     "output_type": "stream",
     "text": [
      "+-------+------------------+\n",
      "|summary|        AMT_CREDIT|\n",
      "+-------+------------------+\n",
      "|  count|            219578|\n",
      "|   mean|515054.34125914256|\n",
      "| stddev|  341663.391627658|\n",
      "|    min|           45000.0|\n",
      "|    max|         2980521.0|\n",
      "+-------+------------------+\n",
      "\n"
     ]
    }
   ],
   "source": [
    "df_credit=df.select('AMT_CREDIT')\n",
    "df_credit.describe().show()"
   ]
  },
  {
   "cell_type": "code",
   "execution_count": 79,
   "metadata": {},
   "outputs": [
    {
     "data": {
      "image/png": "[encoded data removed]",
      "text/plain": [
       "<Figure size 432x288 with 1 Axes>"
      ]
     },
     "metadata": {
      "needs_background": "light"
     },
     "output_type": "display_data"
    }
   ],
   "source": [
    "ax=sns.boxplot(y=df_credit.toPandas()[\"AMT_CREDIT\"],palette='Set3')\n"
   ]
  },
  {
   "cell_type": "code",
   "execution_count": 80,
   "metadata": {},
   "outputs": [],
   "source": [
    "df_credit=df_credit.filter(df_credit['AMT_CREDIT']<1300000)"
   ]
  },
  {
   "cell_type": "code",
   "execution_count": 81,
   "metadata": {},
   "outputs": [
    {
     "data": {
      "image/png": "[encoded data removed]",
      "text/plain": [
       "<Figure size 432x288 with 1 Axes>"
      ]
     },
     "metadata": {
      "needs_background": "light"
     },
     "output_type": "display_data"
    }
   ],
   "source": [
    "ax=sns.boxplot(y=df_credit.toPandas()[\"AMT_CREDIT\"],palette='Set3')"
   ]
  },
  {
   "cell_type": "code",
   "execution_count": 82,
   "metadata": {},
   "outputs": [
    {
     "data": {
      "text/plain": [
       "<matplotlib.axes._subplots.AxesSubplot at 0x271ea7a4080>"
      ]
     },
     "execution_count": 82,
     "metadata": {},
     "output_type": "execute_result"
    },
    {
     "data": {
      "image/png": "[encoded data removed]",
      "text/plain": [
       "<Figure size 432x288 with 1 Axes>"
      ]
     },
     "metadata": {
      "needs_background": "light"
     },
     "output_type": "display_data"
    }
   ],
   "source": [
    "sns.distplot(df_income.toPandas()[\"AMT_INCOME_TOTAL\"])"
   ]
  },
  {
   "cell_type": "markdown",
   "metadata": {},
   "source": [
    "In terms of cledit loan we will consider the amount less then 1300000."
   ]
  },
  {
   "cell_type": "code",
   "execution_count": 83,
   "metadata": {},
   "outputs": [],
   "source": [
    "df=df.filter(df['AMT_CREDIT']<1300000)"
   ]
  },
  {
   "cell_type": "code",
   "execution_count": 84,
   "metadata": {},
   "outputs": [
    {
     "name": "stdout",
     "output_type": "stream",
     "text": [
      "We are still keeping 0.69 of whole dataset\n"
     ]
    }
   ],
   "source": [
    "print('We are still keeping', round(df.count()/307493,2), 'of whole dataset')"
   ]
  },
  {
   "cell_type": "markdown",
   "metadata": {},
   "source": [
    "AMT_ANNUITY: Loan Annuity \n",
    "\n",
    "An annuity is a series of payments made at equal intervals.Examples of annuities are regular deposits to a savings account, monthly home mortgage payments, monthly insurance payments and pension payments. Annuities can be classified by the frequency of payment dates. The payments (deposits) may be made weekly, monthly, quarterly, yearly, or at any other regular interval of time."
   ]
  },
  {
   "cell_type": "code",
   "execution_count": 85,
   "metadata": {},
   "outputs": [],
   "source": [
    "df_annuity=df.select('AMT_ANNUITY')"
   ]
  },
  {
   "cell_type": "code",
   "execution_count": 86,
   "metadata": {},
   "outputs": [
    {
     "data": {
      "image/png": "[encoded data removed]",
      "text/plain": [
       "<Figure size 432x288 with 1 Axes>"
      ]
     },
     "metadata": {
      "needs_background": "light"
     },
     "output_type": "display_data"
    }
   ],
   "source": [
    "ax=sns.boxplot(y=df_annuity.toPandas()['AMT_ANNUITY'], palette='Set3')"
   ]
  },
  {
   "cell_type": "code",
   "execution_count": 87,
   "metadata": {},
   "outputs": [
    {
     "name": "stdout",
     "output_type": "stream",
     "text": [
      "+-------+------------------+\n",
      "|summary|       AMT_ANNUITY|\n",
      "+-------+------------------+\n",
      "|  count|            213059|\n",
      "|   mean| 22848.05156318203|\n",
      "| stddev|10842.304064524056|\n",
      "|    min|            1615.5|\n",
      "|    max|          115803.0|\n",
      "+-------+------------------+\n",
      "\n"
     ]
    }
   ],
   "source": [
    "df_annuity.describe().show()"
   ]
  },
  {
   "cell_type": "code",
   "execution_count": 88,
   "metadata": {},
   "outputs": [],
   "source": [
    "df_annuity=df_annuity.filter(df_annuity['AMT_ANNUITY']<50000)"
   ]
  },
  {
   "cell_type": "code",
   "execution_count": 89,
   "metadata": {},
   "outputs": [
    {
     "data": {
      "image/png": "[encoded data removed]",
      "text/plain": [
       "<Figure size 432x288 with 1 Axes>"
      ]
     },
     "metadata": {
      "needs_background": "light"
     },
     "output_type": "display_data"
    }
   ],
   "source": [
    "ax=sns.boxplot(y=df_annuity.toPandas()['AMT_ANNUITY'], palette='Set3')"
   ]
  },
  {
   "cell_type": "code",
   "execution_count": 90,
   "metadata": {},
   "outputs": [],
   "source": [
    "df=df.filter(df['AMT_ANNUITY']<50000)"
   ]
  },
  {
   "cell_type": "code",
   "execution_count": 91,
   "metadata": {},
   "outputs": [
    {
     "name": "stdout",
     "output_type": "stream",
     "text": [
      "We are still keeping 0.68 of whole dataset\n"
     ]
    }
   ],
   "source": [
    "print('We are still keeping', round(df.count()/307493,2), 'of whole dataset')"
   ]
  },
  {
   "cell_type": "markdown",
   "metadata": {},
   "source": [
    "NAME_INCOME_TYPE: Client income type (bussinessman, working, maternity leave)"
   ]
  },
  {
   "cell_type": "code",
   "execution_count": 92,
   "metadata": {},
   "outputs": [
    {
     "name": "stdout",
     "output_type": "stream",
     "text": [
      "+--------------------+\n",
      "|    NAME_INCOME_TYPE|\n",
      "+--------------------+\n",
      "|             Student|\n",
      "|Commercial associate|\n",
      "|         Businessman|\n",
      "|     Maternity leave|\n",
      "|       State servant|\n",
      "|             Working|\n",
      "|           Pensioner|\n",
      "|          Unemployed|\n",
      "+--------------------+\n",
      "\n"
     ]
    }
   ],
   "source": [
    "df.select('NAME_INCOME_TYPE').distinct().show()"
   ]
  },
  {
   "cell_type": "code",
   "execution_count": 93,
   "metadata": {},
   "outputs": [
    {
     "name": "stdout",
     "output_type": "stream",
     "text": [
      "+--------------------+-----------+\n",
      "|    NAME_INCOME_TYPE|INCOME_TYPE|\n",
      "+--------------------+-----------+\n",
      "|             Student|        5.0|\n",
      "|Commercial associate|        2.0|\n",
      "|           Pensioner|        1.0|\n",
      "|          Unemployed|        4.0|\n",
      "|             Working|        0.0|\n",
      "|     Maternity leave|        6.0|\n",
      "|       State servant|        3.0|\n",
      "|         Businessman|        7.0|\n",
      "+--------------------+-----------+\n",
      "\n"
     ]
    }
   ],
   "source": [
    "INC_TYPE_indexer=StringIndexer(inputCol='NAME_INCOME_TYPE', outputCol='INCOME_TYPE').fit(df)\n",
    "df=INC_TYPE_indexer.transform(df)\n",
    "df.select('NAME_INCOME_TYPE','INCOME_TYPE').distinct().show()"
   ]
  },
  {
   "cell_type": "code",
   "execution_count": 94,
   "metadata": {},
   "outputs": [
    {
     "name": "stdout",
     "output_type": "stream",
     "text": [
      "+--------------------+-----------+------------------+\n",
      "|    NAME_INCOME_TYPE|INCOME_TYPE|INCOME_TYPE_Vector|\n",
      "+--------------------+-----------+------------------+\n",
      "|          Unemployed|        4.0|     (7,[4],[1.0])|\n",
      "|             Working|        0.0|     (7,[0],[1.0])|\n",
      "|         Businessman|        7.0|         (7,[],[])|\n",
      "|     Maternity leave|        6.0|     (7,[6],[1.0])|\n",
      "|             Student|        5.0|     (7,[5],[1.0])|\n",
      "|           Pensioner|        1.0|     (7,[1],[1.0])|\n",
      "|       State servant|        3.0|     (7,[3],[1.0])|\n",
      "|Commercial associate|        2.0|     (7,[2],[1.0])|\n",
      "+--------------------+-----------+------------------+\n",
      "\n"
     ]
    }
   ],
   "source": [
    "INCOME_TYPE_encoder=OneHotEncoder(inputCol=\"INCOME_TYPE\", outputCol=\"INCOME_TYPE_Vector\")\n",
    "df = INCOME_TYPE_encoder.transform(df)\n",
    "df.select('NAME_INCOME_TYPE','INCOME_TYPE','INCOME_TYPE_Vector').distinct().show()"
   ]
  },
  {
   "cell_type": "markdown",
   "metadata": {},
   "source": [
    "NAME_EDUCATION_TYPE: Level of highest education the client achived\n"
   ]
  },
  {
   "cell_type": "code",
   "execution_count": 95,
   "metadata": {},
   "outputs": [
    {
     "name": "stdout",
     "output_type": "stream",
     "text": [
      "+--------------------+\n",
      "| NAME_EDUCATION_TYPE|\n",
      "+--------------------+\n",
      "|     Academic degree|\n",
      "|   Incomplete higher|\n",
      "|Secondary / secon...|\n",
      "|     Lower secondary|\n",
      "|    Higher education|\n",
      "+--------------------+\n",
      "\n"
     ]
    }
   ],
   "source": [
    "df.select('NAME_EDUCATION_TYPE').distinct().show()"
   ]
  },
  {
   "cell_type": "code",
   "execution_count": 96,
   "metadata": {},
   "outputs": [
    {
     "name": "stdout",
     "output_type": "stream",
     "text": [
      "+--------------------+--------+\n",
      "| NAME_EDUCATION_TYPE|EDU_TYPE|\n",
      "+--------------------+--------+\n",
      "|     Academic degree|     4.0|\n",
      "|     Lower secondary|     3.0|\n",
      "|   Incomplete higher|     2.0|\n",
      "|    Higher education|     1.0|\n",
      "|Secondary / secon...|     0.0|\n",
      "+--------------------+--------+\n",
      "\n"
     ]
    }
   ],
   "source": [
    "EDU_TYPE_indexer=StringIndexer(inputCol='NAME_EDUCATION_TYPE', outputCol='EDU_TYPE').fit(df)\n",
    "df=EDU_TYPE_indexer.transform(df)\n",
    "df.select('NAME_EDUCATION_TYPE','EDU_TYPE').distinct().show()"
   ]
  },
  {
   "cell_type": "code",
   "execution_count": 97,
   "metadata": {},
   "outputs": [],
   "source": [
    "EDU_TYPE_encoder=OneHotEncoder(inputCol=\"EDU_TYPE\", outputCol=\"EDU_TYPE_Vector\")\n",
    "df = EDU_TYPE_encoder.transform(df)"
   ]
  },
  {
   "cell_type": "markdown",
   "metadata": {},
   "source": [
    "NAME_FAMILY_STATUS: Family status of client"
   ]
  },
  {
   "cell_type": "code",
   "execution_count": 98,
   "metadata": {},
   "outputs": [
    {
     "name": "stdout",
     "output_type": "stream",
     "text": [
      "+--------------------+\n",
      "|  NAME_FAMILY_STATUS|\n",
      "+--------------------+\n",
      "|           Separated|\n",
      "|             Married|\n",
      "|Single / not married|\n",
      "|               Widow|\n",
      "|      Civil marriage|\n",
      "+--------------------+\n",
      "\n"
     ]
    }
   ],
   "source": [
    "df.select('NAME_FAMILY_STATUS').distinct().show()"
   ]
  },
  {
   "cell_type": "code",
   "execution_count": 99,
   "metadata": {},
   "outputs": [
    {
     "name": "stdout",
     "output_type": "stream",
     "text": [
      "+--------------------+------+\n",
      "|  NAME_FAMILY_STATUS|FAMILY|\n",
      "+--------------------+------+\n",
      "|      Civil marriage|   2.0|\n",
      "|               Widow|   4.0|\n",
      "|           Separated|   3.0|\n",
      "|Single / not married|   1.0|\n",
      "|             Married|   0.0|\n",
      "+--------------------+------+\n",
      "\n"
     ]
    }
   ],
   "source": [
    "FAMILY_indexer=StringIndexer(inputCol='NAME_FAMILY_STATUS', outputCol='FAMILY').fit(df)\n",
    "df=FAMILY_indexer.transform(df)\n",
    "df.select('NAME_FAMILY_STATUS','FAMILY').distinct().show()"
   ]
  },
  {
   "cell_type": "code",
   "execution_count": 100,
   "metadata": {},
   "outputs": [],
   "source": [
    "FAMILY_encoder=OneHotEncoder(inputCol=\"FAMILY\", outputCol=\"FAMILY_Vector\")\n",
    "df = FAMILY_encoder.transform(df)"
   ]
  },
  {
   "cell_type": "markdown",
   "metadata": {},
   "source": [
    "NAME_HOUSING_TYPE:What is the housing situation of the client (renting, living with parents, etc...)\n"
   ]
  },
  {
   "cell_type": "code",
   "execution_count": 101,
   "metadata": {},
   "outputs": [
    {
     "name": "stdout",
     "output_type": "stream",
     "text": [
      "+-------------------+\n",
      "|  NAME_HOUSING_TYPE|\n",
      "+-------------------+\n",
      "|  House / apartment|\n",
      "|Municipal apartment|\n",
      "|    Co-op apartment|\n",
      "|   Rented apartment|\n",
      "|   Office apartment|\n",
      "|       With parents|\n",
      "+-------------------+\n",
      "\n"
     ]
    }
   ],
   "source": [
    "df.select('NAME_HOUSING_TYPE').distinct().show()"
   ]
  },
  {
   "cell_type": "code",
   "execution_count": 102,
   "metadata": {},
   "outputs": [
    {
     "name": "stdout",
     "output_type": "stream",
     "text": [
      "+-------------------+----------+\n",
      "|  NAME_HOUSING_TYPE|HOUSE_TYPE|\n",
      "+-------------------+----------+\n",
      "|  House / apartment|       0.0|\n",
      "|       With parents|       1.0|\n",
      "|   Office apartment|       4.0|\n",
      "|Municipal apartment|       2.0|\n",
      "|   Rented apartment|       3.0|\n",
      "|    Co-op apartment|       5.0|\n",
      "+-------------------+----------+\n",
      "\n"
     ]
    }
   ],
   "source": [
    "HOUS_TYPE_indexer=StringIndexer(inputCol='NAME_HOUSING_TYPE', outputCol='HOUSE_TYPE').fit(df)\n",
    "df=HOUS_TYPE_indexer.transform(df)\n",
    "df.select('NAME_HOUSING_TYPE','HOUSE_TYPE').distinct().show()"
   ]
  },
  {
   "cell_type": "code",
   "execution_count": 103,
   "metadata": {},
   "outputs": [],
   "source": [
    "HOUSE_TYPE_encoder=OneHotEncoder(inputCol=\"HOUSE_TYPE\", outputCol=\"HOUSE_TYPE_Vector\")\n",
    "df = HOUSE_TYPE_encoder.transform(df)"
   ]
  },
  {
   "cell_type": "markdown",
   "metadata": {},
   "source": [
    "DAYS_BIRTH: Client's age in days at the time of application"
   ]
  },
  {
   "cell_type": "code",
   "execution_count": 104,
   "metadata": {},
   "outputs": [
    {
     "name": "stdout",
     "output_type": "stream",
     "text": [
      "+----------+\n",
      "|DAYS_BIRTH|\n",
      "+----------+\n",
      "|    -19046|\n",
      "|    -19005|\n",
      "|    -19932|\n",
      "|    -16941|\n",
      "|    -20099|\n",
      "|    -14469|\n",
      "|    -10197|\n",
      "|    -20417|\n",
      "|    -13439|\n",
      "|    -14583|\n",
      "|     -8728|\n",
      "|    -12931|\n",
      "|     -9776|\n",
      "|    -17718|\n",
      "|    -11348|\n",
      "|    -18252|\n",
      "|    -24827|\n",
      "|    -11286|\n",
      "|    -19334|\n",
      "|    -18724|\n",
      "+----------+\n",
      "only showing top 20 rows\n",
      "\n"
     ]
    }
   ],
   "source": [
    "df.select('DAYS_BIRTH').show() #Days of the year is 365.25"
   ]
  },
  {
   "cell_type": "markdown",
   "metadata": {},
   "source": [
    "Age values are given in terms of days and in minus value, we need to convert them to reasonable age data."
   ]
  },
  {
   "cell_type": "code",
   "execution_count": 105,
   "metadata": {},
   "outputs": [],
   "source": [
    "import pyspark.sql.functions as func"
   ]
  },
  {
   "cell_type": "code",
   "execution_count": 106,
   "metadata": {},
   "outputs": [],
   "source": [
    "df=df.withColumn('AGE',func.round(-df.DAYS_BIRTH/365,0).cast('integer'))"
   ]
  },
  {
   "cell_type": "code",
   "execution_count": 107,
   "metadata": {},
   "outputs": [
    {
     "name": "stdout",
     "output_type": "stream",
     "text": [
      "+-------+------------------+\n",
      "|summary|               AGE|\n",
      "+-------+------------------+\n",
      "|  count|            208878|\n",
      "|   mean|  44.2272953590134|\n",
      "| stddev|12.476177733395613|\n",
      "|    min|                21|\n",
      "|    max|                69|\n",
      "+-------+------------------+\n",
      "\n"
     ]
    }
   ],
   "source": [
    "df_AGE=df.select('AGE')\n",
    "df_AGE.describe().show()"
   ]
  },
  {
   "cell_type": "markdown",
   "metadata": {},
   "source": [
    "All age values seems relevant and can be used through the analysis."
   ]
  },
  {
   "cell_type": "markdown",
   "metadata": {},
   "source": [
    "DAYS_EMPLOYED: How many days before the application the person started current employement\n"
   ]
  },
  {
   "cell_type": "code",
   "execution_count": 108,
   "metadata": {},
   "outputs": [],
   "source": [
    "df=df.withColumn('YEAR_EMP',func.round(-df.DAYS_EMPLOYED/365,0).cast('integer'))"
   ]
  },
  {
   "cell_type": "code",
   "execution_count": 109,
   "metadata": {},
   "outputs": [
    {
     "name": "stdout",
     "output_type": "stream",
     "text": [
      "+-------+-------------------+\n",
      "|summary|           YEAR_EMP|\n",
      "+-------+-------------------+\n",
      "|  count|             208878|\n",
      "|   mean|-206.96514711937112|\n",
      "| stddev|  411.5876931161294|\n",
      "|    min|              -1001|\n",
      "|    max|                 49|\n",
      "+-------+-------------------+\n",
      "\n"
     ]
    }
   ],
   "source": [
    "df_YEAR_EMPLOYED=df.select('YEAR_EMP')\n",
    "df_YEAR_EMPLOYED.describe().show()"
   ]
  },
  {
   "cell_type": "markdown",
   "metadata": {},
   "source": [
    "In the dataset we have some values as 365243 which do not correspond with the other values.\n"
   ]
  },
  {
   "cell_type": "code",
   "execution_count": 110,
   "metadata": {},
   "outputs": [
    {
     "data": {
      "text/plain": [
       "0.21175039975488083"
      ]
     },
     "execution_count": 110,
     "metadata": {},
     "output_type": "execute_result"
    }
   ],
   "source": [
    "df.filter(df['DAYS_EMPLOYED']==365243).count()/df.count()"
   ]
  },
  {
   "cell_type": "markdown",
   "metadata": {},
   "source": [
    "%21 of whole data has same value, dropping them will cause a significant loss of data. Rather then dropping them we will deal with assigning a mean value what the rest of the data has."
   ]
  },
  {
   "cell_type": "code",
   "execution_count": 111,
   "metadata": {},
   "outputs": [
    {
     "data": {
      "text/plain": [
       "-6.33562582566228"
      ]
     },
     "execution_count": 111,
     "metadata": {},
     "output_type": "execute_result"
    }
   ],
   "source": [
    "df.filter(df['DAYS_EMPLOYED']<0).toPandas()['DAYS_EMPLOYED'].mean()/365.25"
   ]
  },
  {
   "cell_type": "markdown",
   "metadata": {},
   "source": [
    "We need to apply conditional assignment based on the value. "
   ]
  },
  {
   "cell_type": "code",
   "execution_count": 112,
   "metadata": {},
   "outputs": [],
   "source": [
    "from pyspark.sql.functions import col, when"
   ]
  },
  {
   "cell_type": "code",
   "execution_count": 114,
   "metadata": {},
   "outputs": [],
   "source": [
    "df=df.withColumn(\"YEAR_EMP\", when(col('DAYS_EMPLOYED')<0,func.round(-df.DAYS_EMPLOYED/365,0).cast('integer')).otherwise(6))"
   ]
  },
  {
   "cell_type": "markdown",
   "metadata": {},
   "source": [
    "If employed days has negative value then it will be assigned as 6 years by default. "
   ]
  },
  {
   "cell_type": "code",
   "execution_count": 115,
   "metadata": {},
   "outputs": [
    {
     "name": "stdout",
     "output_type": "stream",
     "text": [
      "+-------+-----------------+\n",
      "|summary|         YEAR_EMP|\n",
      "+-------+-----------------+\n",
      "|  count|           208878|\n",
      "|   mean|6.267562883597123|\n",
      "| stddev|5.693776504143547|\n",
      "|    min|                0|\n",
      "|    max|               49|\n",
      "+-------+-----------------+\n",
      "\n"
     ]
    }
   ],
   "source": [
    "df.select('YEAR_EMP').describe().show()"
   ]
  },
  {
   "cell_type": "markdown",
   "metadata": {},
   "source": [
    "Now, all values seem reasonable."
   ]
  },
  {
   "cell_type": "markdown",
   "metadata": {},
   "source": [
    "OWN_CAR_AGE has only 0 and value so we will disregard this data"
   ]
  },
  {
   "cell_type": "markdown",
   "metadata": {},
   "source": [
    "FLAG_MOBIL; \n",
    "FLAG_EMP_PHONE; \n",
    "FLAG_WORK_PHONE; \n",
    "FLAG_PHONE; \n",
    "\n",
    "All be used as is since they are designated as 0 and 1 as integer.\n"
   ]
  },
  {
   "cell_type": "markdown",
   "metadata": {},
   "source": [
    "OCCUPATION_TYPE is given as numbers, we can't use them since they are not defined. So we will desregard this data as well.\n"
   ]
  },
  {
   "cell_type": "markdown",
   "metadata": {},
   "source": [
    "CNT_FAM_MEMBERS; \n",
    "REGION_RATING_CLIENT; \n",
    "REGION_RATING_CLIENT_W_CITY; \n",
    "REG_REGION_NOT_LIVE_REGION; \n",
    "REG_REGION_NOT_WORK_REGION; \n",
    "\n",
    "Values will be used as is with 0 and 1 values. \n"
   ]
  },
  {
   "cell_type": "code",
   "execution_count": 116,
   "metadata": {},
   "outputs": [
    {
     "data": {
      "text/plain": [
       "58"
      ]
     },
     "execution_count": 116,
     "metadata": {},
     "output_type": "execute_result"
    }
   ],
   "source": [
    "df.select('ORGANIZATION_TYPE').distinct().count()"
   ]
  },
  {
   "cell_type": "markdown",
   "metadata": {},
   "source": [
    "There are too much distict values, so for the machine learning algorithm it will not create a significant difference, and inputting data will be diffucult. For a seperate project it can be reduced and aggregated to common organization types."
   ]
  },
  {
   "cell_type": "code",
   "execution_count": 117,
   "metadata": {},
   "outputs": [
    {
     "name": "stdout",
     "output_type": "stream",
     "text": [
      "+---------------+---------------+---------------+---------------+\n",
      "|FLAG_DOCUMENT_2|FLAG_DOCUMENT_3|FLAG_DOCUMENT_4|FLAG_DOCUMENT_5|\n",
      "+---------------+---------------+---------------+---------------+\n",
      "|              0|              0|              0|              1|\n",
      "|              0|              0|              0|              0|\n",
      "|              1|              0|              0|              0|\n",
      "|              0|              0|              1|              0|\n",
      "|              0|              1|              0|              0|\n",
      "+---------------+---------------+---------------+---------------+\n",
      "\n"
     ]
    }
   ],
   "source": [
    "df.select('FLAG_DOCUMENT_2','FLAG_DOCUMENT_3','FLAG_DOCUMENT_4','FLAG_DOCUMENT_5').distinct().show()\n"
   ]
  },
  {
   "cell_type": "code",
   "execution_count": 118,
   "metadata": {},
   "outputs": [
    {
     "name": "stdout",
     "output_type": "stream",
     "text": [
      "+---------------+---------------+---------------+---------------+----------------+\n",
      "|FLAG_DOCUMENT_6|FLAG_DOCUMENT_7|FLAG_DOCUMENT_8|FLAG_DOCUMENT_9|FLAG_DOCUMENT_10|\n",
      "+---------------+---------------+---------------+---------------+----------------+\n",
      "|              0|              0|              0|              0|               0|\n",
      "|              1|              0|              0|              1|               0|\n",
      "|              0|              1|              0|              0|               0|\n",
      "|              0|              0|              1|              0|               0|\n",
      "|              1|              0|              0|              0|               0|\n",
      "|              0|              0|              0|              1|               0|\n",
      "+---------------+---------------+---------------+---------------+----------------+\n",
      "\n"
     ]
    }
   ],
   "source": [
    "df.select('FLAG_DOCUMENT_6','FLAG_DOCUMENT_7','FLAG_DOCUMENT_8','FLAG_DOCUMENT_9','FLAG_DOCUMENT_10').distinct().show()"
   ]
  },
  {
   "cell_type": "code",
   "execution_count": 119,
   "metadata": {},
   "outputs": [
    {
     "data": {
      "text/plain": [
       "array([0, 1], dtype=int64)"
      ]
     },
     "execution_count": 119,
     "metadata": {},
     "output_type": "execute_result"
    }
   ],
   "source": [
    "df.select('FLAG_DOCUMENT_2').toPandas()['FLAG_DOCUMENT_2'].unique()"
   ]
  },
  {
   "cell_type": "markdown",
   "metadata": {},
   "source": [
    "* Spark SQL distinct function and Pandas unique function are not giving the same results. "
   ]
  },
  {
   "cell_type": "code",
   "execution_count": 120,
   "metadata": {},
   "outputs": [],
   "source": [
    "#df.toPandas().to_csv('E:/BDA 105/Files/Data_Fnl.csv')"
   ]
  },
  {
   "cell_type": "markdown",
   "metadata": {},
   "source": [
    "## Assembling Data"
   ]
  },
  {
   "cell_type": "markdown",
   "metadata": {},
   "source": [
    "We need to assemble all of the input columns into a\n",
    "single vector that would act as the input feature for the model. So, we select the input columns that we need to use to create the single\n",
    "feature vector and name the output vector as features."
   ]
  },
  {
   "cell_type": "code",
   "execution_count": 121,
   "metadata": {},
   "outputs": [],
   "source": [
    "df_assembler = VectorAssembler(inputCols=['NCT_Vector','GENDER_Vector','CAR_Vector','HOUSE_Vector','CNT_CHILDREN','AMT_INCOME_TOTAL','AMT_CREDIT','AMT_ANNUITY',\n",
    "        'INCOME_TYPE_Vector','EDU_TYPE_Vector','FAMILY_Vector','HOUSE_TYPE_Vector','AGE','YEAR_EMP','FLAG_MOBIL','FLAG_EMP_PHONE','FLAG_WORK_PHONE',\n",
    "        'FLAG_CONT_MOBILE','CNT_FAM_MEMBERS','REGION_RATING_CLIENT','REGION_RATING_CLIENT_W_CITY','REG_REGION_NOT_WORK_REGION',\n",
    "        'REG_REGION_NOT_LIVE_REGION','FLAG_DOCUMENT_2','FLAG_DOCUMENT_3','FLAG_DOCUMENT_4','FLAG_DOCUMENT_5','FLAG_DOCUMENT_6',\n",
    "        'FLAG_DOCUMENT_7','FLAG_DOCUMENT_8','FLAG_DOCUMENT_9'],outputCol='features')"
   ]
  },
  {
   "cell_type": "code",
   "execution_count": 122,
   "metadata": {},
   "outputs": [],
   "source": [
    "df = df_assembler.transform(df)"
   ]
  },
  {
   "cell_type": "code",
   "execution_count": 123,
   "metadata": {},
   "outputs": [
    {
     "name": "stdout",
     "output_type": "stream",
     "text": [
      "root\n",
      " |-- TARGET: integer (nullable = true)\n",
      " |-- NAME_CONTRACT_TYPE: string (nullable = true)\n",
      " |-- CODE_GENDER: string (nullable = true)\n",
      " |-- FLAG_OWN_CAR: string (nullable = true)\n",
      " |-- FLAG_OWN_REALTY: string (nullable = true)\n",
      " |-- CNT_CHILDREN: integer (nullable = true)\n",
      " |-- AMT_INCOME_TOTAL: double (nullable = true)\n",
      " |-- AMT_CREDIT: double (nullable = true)\n",
      " |-- AMT_ANNUITY: double (nullable = true)\n",
      " |-- NAME_INCOME_TYPE: string (nullable = true)\n",
      " |-- NAME_EDUCATION_TYPE: string (nullable = true)\n",
      " |-- NAME_FAMILY_STATUS: string (nullable = true)\n",
      " |-- NAME_HOUSING_TYPE: string (nullable = true)\n",
      " |-- DAYS_BIRTH: integer (nullable = true)\n",
      " |-- DAYS_EMPLOYED: integer (nullable = true)\n",
      " |-- OWN_CAR_AGE: integer (nullable = true)\n",
      " |-- FLAG_MOBIL: integer (nullable = true)\n",
      " |-- FLAG_EMP_PHONE: integer (nullable = true)\n",
      " |-- FLAG_WORK_PHONE: integer (nullable = true)\n",
      " |-- FLAG_CONT_MOBILE: integer (nullable = true)\n",
      " |-- FLAG_PHONE: double (nullable = true)\n",
      " |-- OCCUPATION_TYPE: integer (nullable = true)\n",
      " |-- CNT_FAM_MEMBERS: integer (nullable = true)\n",
      " |-- REGION_RATING_CLIENT: integer (nullable = true)\n",
      " |-- REGION_RATING_CLIENT_W_CITY: integer (nullable = true)\n",
      " |-- ORGANIZATION_TYPE: string (nullable = true)\n",
      " |-- REG_REGION_NOT_WORK_REGION: integer (nullable = true)\n",
      " |-- REG_REGION_NOT_LIVE_REGION: integer (nullable = true)\n",
      " |-- FLAG_DOCUMENT_2: integer (nullable = true)\n",
      " |-- FLAG_DOCUMENT_3: integer (nullable = true)\n",
      " |-- FLAG_DOCUMENT_4: integer (nullable = true)\n",
      " |-- FLAG_DOCUMENT_5: integer (nullable = true)\n",
      " |-- FLAG_DOCUMENT_6: integer (nullable = true)\n",
      " |-- FLAG_DOCUMENT_7: integer (nullable = true)\n",
      " |-- FLAG_DOCUMENT_8: integer (nullable = true)\n",
      " |-- FLAG_DOCUMENT_9: integer (nullable = true)\n",
      " |-- FLAG_DOCUMENT_10: integer (nullable = true)\n",
      " |-- NCT: double (nullable = false)\n",
      " |-- NCT_Vector: vector (nullable = true)\n",
      " |-- GENDER: double (nullable = false)\n",
      " |-- GENDER_Vector: vector (nullable = true)\n",
      " |-- CAR: double (nullable = false)\n",
      " |-- CAR_Vector: vector (nullable = true)\n",
      " |-- HOUSE: double (nullable = false)\n",
      " |-- HOUSE_Vector: vector (nullable = true)\n",
      " |-- INCOME_TYPE: double (nullable = false)\n",
      " |-- INCOME_TYPE_Vector: vector (nullable = true)\n",
      " |-- EDU_TYPE: double (nullable = false)\n",
      " |-- EDU_TYPE_Vector: vector (nullable = true)\n",
      " |-- FAMILY: double (nullable = false)\n",
      " |-- FAMILY_Vector: vector (nullable = true)\n",
      " |-- HOUSE_TYPE: double (nullable = false)\n",
      " |-- HOUSE_TYPE_Vector: vector (nullable = true)\n",
      " |-- AGE: integer (nullable = true)\n",
      " |-- YEAR_EMP: integer (nullable = true)\n",
      " |-- features: vector (nullable = true)\n",
      "\n"
     ]
    }
   ],
   "source": [
    "df.printSchema()"
   ]
  },
  {
   "cell_type": "markdown",
   "metadata": {},
   "source": [
    "As we can see, now we have one extra column named features, which\n",
    "is nothing but a combination of all the input features represented as a\n",
    "single dense vector."
   ]
  },
  {
   "cell_type": "code",
   "execution_count": 124,
   "metadata": {},
   "outputs": [
    {
     "name": "stdout",
     "output_type": "stream",
     "text": [
      "+--------------------+------+\n",
      "|            features|TARGET|\n",
      "+--------------------+------+\n",
      "|(47,[3,5,6,7,8,15...|     0|\n",
      "|(47,[0,1,2,3,5,6,...|     0|\n",
      "|(47,[0,2,3,5,6,7,...|     0|\n",
      "|(47,[0,2,3,5,6,7,...|     0|\n",
      "|(47,[0,1,2,3,5,6,...|     0|\n",
      "|(47,[2,3,5,6,7,8,...|     0|\n",
      "|(47,[0,1,2,3,4,5,...|     0|\n",
      "|(47,[0,1,2,3,5,6,...|     0|\n",
      "|(47,[0,1,2,3,5,6,...|     0|\n",
      "|(47,[0,1,2,3,5,6,...|     0|\n",
      "|(47,[0,3,5,6,7,8,...|     0|\n",
      "|(47,[0,2,5,6,7,8,...|     0|\n",
      "|(47,[1,2,3,4,5,6,...|     0|\n",
      "|(47,[1,2,3,5,6,7,...|     0|\n",
      "|(47,[0,1,2,3,4,5,...|     0|\n",
      "|(47,[3,5,6,7,8,15...|     0|\n",
      "|(47,[0,1,2,3,5,6,...|     0|\n",
      "|(47,[0,4,5,6,7,8,...|     0|\n",
      "|(47,[0,1,2,3,5,6,...|     0|\n",
      "|(47,[0,1,2,3,5,6,...|     1|\n",
      "+--------------------+------+\n",
      "only showing top 20 rows\n",
      "\n"
     ]
    }
   ],
   "source": [
    "df.select(['features','TARGET']).show()"
   ]
  },
  {
   "cell_type": "markdown",
   "metadata": {},
   "source": [
    "Let us select only features column as input and the TARGET column as\n",
    "output for training the logistic regression model."
   ]
  },
  {
   "cell_type": "markdown",
   "metadata": {},
   "source": [
    "## Splitting the Dataset"
   ]
  },
  {
   "cell_type": "markdown",
   "metadata": {},
   "source": [
    "We have to split the dataset into a training and test dataset in order to train\n",
    "and evaluate the performance of the logistic regression model. We split it\n",
    "in a 65/35 ratio and train our model on 65% of the dataset. Another use of\n",
    "splitting the data is that we can use 65% of the data to apply cross-validation\n",
    "in order to come up with the best Hyperparameters. "
   ]
  },
  {
   "cell_type": "code",
   "execution_count": 147,
   "metadata": {},
   "outputs": [],
   "source": [
    "model_df=df.select(['features','TARGET'])"
   ]
  },
  {
   "cell_type": "code",
   "execution_count": 148,
   "metadata": {},
   "outputs": [],
   "source": [
    "training_df,test_df=model_df.randomSplit([0.65,0.35])"
   ]
  },
  {
   "cell_type": "code",
   "execution_count": 167,
   "metadata": {},
   "outputs": [
    {
     "data": {
      "text/plain": [
       "135868"
      ]
     },
     "execution_count": 167,
     "metadata": {},
     "output_type": "execute_result"
    }
   ],
   "source": [
    "training_df.count()"
   ]
  },
  {
   "cell_type": "code",
   "execution_count": 168,
   "metadata": {},
   "outputs": [
    {
     "name": "stdout",
     "output_type": "stream",
     "text": [
      "+------+------+\n",
      "|TARGET| count|\n",
      "+------+------+\n",
      "|     1| 11597|\n",
      "|     0|124271|\n",
      "+------+------+\n",
      "\n"
     ]
    }
   ],
   "source": [
    "training_df.groupBy('TARGET').count().show()"
   ]
  },
  {
   "cell_type": "code",
   "execution_count": 169,
   "metadata": {},
   "outputs": [
    {
     "data": {
      "text/plain": [
       "73010"
      ]
     },
     "execution_count": 169,
     "metadata": {},
     "output_type": "execute_result"
    }
   ],
   "source": [
    "test_df.count()"
   ]
  },
  {
   "cell_type": "code",
   "execution_count": 170,
   "metadata": {},
   "outputs": [
    {
     "name": "stdout",
     "output_type": "stream",
     "text": [
      "+------+-----+\n",
      "|TARGET|count|\n",
      "+------+-----+\n",
      "|     1| 6259|\n",
      "|     0|66751|\n",
      "+------+-----+\n",
      "\n"
     ]
    }
   ],
   "source": [
    "test_df.groupBy('TARGET').count().show()"
   ]
  },
  {
   "cell_type": "code",
   "execution_count": 171,
   "metadata": {},
   "outputs": [
    {
     "name": "stdout",
     "output_type": "stream",
     "text": [
      "+------+------+\n",
      "|TARGET| count|\n",
      "+------+------+\n",
      "|     1| 17856|\n",
      "|     0|191022|\n",
      "+------+------+\n",
      "\n"
     ]
    }
   ],
   "source": [
    "df.groupBy('TARGET').count().show()"
   ]
  },
  {
   "cell_type": "markdown",
   "metadata": {},
   "source": [
    "# Spark MLlib Applications"
   ]
  },
  {
   "cell_type": "markdown",
   "metadata": {},
   "source": [
    "Spark MLlib\n",
    "\n",
    "This component is used for building Machine Learning Models on Big\n",
    "Data in a distributed manner. The traditional technique of building\n",
    "ML models using Python’s scikit learn library faces lot of challenges\n",
    "when data size is huge whereas MLlib is designed in a way that offers\n",
    "feature engineering and machine learning at scale. MLlib has most of\n",
    "the algorithms implemented for classification, regression, clustering,\n",
    "recommendation system, and natural language processing."
   ]
  },
  {
   "cell_type": "code",
   "execution_count": 149,
   "metadata": {},
   "outputs": [],
   "source": [
    "from pyspark.ml.classification import LogisticRegression"
   ]
  },
  {
   "cell_type": "code",
   "execution_count": 150,
   "metadata": {},
   "outputs": [],
   "source": [
    "from pyspark.ml.classification import RandomForestClassifier"
   ]
  },
  {
   "cell_type": "markdown",
   "metadata": {},
   "source": [
    "# Building Logistic Regression Model to Final Dataset"
   ]
  },
  {
   "cell_type": "markdown",
   "metadata": {},
   "source": [
    "Logistic regression is used for classification problems based on Probability which is defined as the chances of occurrence of a desired\n",
    "event or interested outcomes upon all possible outcomes."
   ]
  },
  {
   "cell_type": "code",
   "execution_count": 151,
   "metadata": {},
   "outputs": [],
   "source": [
    "log_reg=LogisticRegression(labelCol='TARGET').fit(training_df)"
   ]
  },
  {
   "cell_type": "code",
   "execution_count": 152,
   "metadata": {},
   "outputs": [],
   "source": [
    "train_results=log_reg.evaluate(training_df).predictions"
   ]
  },
  {
   "cell_type": "code",
   "execution_count": 153,
   "metadata": {},
   "outputs": [
    {
     "name": "stdout",
     "output_type": "stream",
     "text": [
      "+------+----------+----------------------------------------+\n",
      "|TARGET|prediction|probability                             |\n",
      "+------+----------+----------------------------------------+\n",
      "|0     |0.0       |[0.8853322246996335,0.11466777530036645]|\n",
      "|0     |0.0       |[0.902767327298154,0.0972326727018459]  |\n",
      "|0     |0.0       |[0.9005322632772319,0.09946773672276811]|\n",
      "|0     |0.0       |[0.9081084234097611,0.091891576590239]  |\n",
      "|0     |0.0       |[0.9051980256028649,0.09480197439713513]|\n",
      "|0     |0.0       |[0.9287604296327177,0.0712395703672823] |\n",
      "|0     |0.0       |[0.9206004452700992,0.07939955472990083]|\n",
      "|0     |0.0       |[0.9120315430019927,0.08796845699800725]|\n",
      "|0     |0.0       |[0.9222984517314916,0.0777015482685083] |\n",
      "|0     |0.0       |[0.9165174290817767,0.08348257091822323]|\n",
      "+------+----------+----------------------------------------+\n",
      "only showing top 10 rows\n",
      "\n"
     ]
    }
   ],
   "source": [
    "train_results.filter(train_results['TARGET']==0).filter(train_results['prediction']==0).select(['TARGET','prediction','probability']).show(10,False)"
   ]
  },
  {
   "cell_type": "markdown",
   "metadata": {},
   "source": [
    "We can access the predictions made by the model using the evaluate\n",
    "function in Spark that executes all the steps in an optimized way. That\n",
    "gives another Dataframe that contains four columns in total, including\n",
    "prediction and probability. The prediction column signifies the class\n",
    "label that the model has predicted for the given row and probability\n",
    "column contains two probabilities"
   ]
  },
  {
   "cell_type": "code",
   "execution_count": 154,
   "metadata": {},
   "outputs": [],
   "source": [
    "results=log_reg.evaluate(test_df).predictions"
   ]
  },
  {
   "cell_type": "code",
   "execution_count": 155,
   "metadata": {},
   "outputs": [
    {
     "name": "stdout",
     "output_type": "stream",
     "text": [
      "root\n",
      " |-- features: vector (nullable = true)\n",
      " |-- TARGET: integer (nullable = true)\n",
      " |-- rawPrediction: vector (nullable = true)\n",
      " |-- probability: vector (nullable = true)\n",
      " |-- prediction: double (nullable = false)\n",
      "\n"
     ]
    }
   ],
   "source": [
    "results.printSchema()"
   ]
  },
  {
   "cell_type": "code",
   "execution_count": 156,
   "metadata": {},
   "outputs": [
    {
     "name": "stdout",
     "output_type": "stream",
     "text": [
      "+------+----------+\n",
      "|TARGET|prediction|\n",
      "+------+----------+\n",
      "|     0|       0.0|\n",
      "|     0|       0.0|\n",
      "|     0|       0.0|\n",
      "|     0|       0.0|\n",
      "|     0|       0.0|\n",
      "|     0|       0.0|\n",
      "|     0|       0.0|\n",
      "|     0|       0.0|\n",
      "|     0|       0.0|\n",
      "|     0|       0.0|\n",
      "|     0|       0.0|\n",
      "|     0|       0.0|\n",
      "|     0|       0.0|\n",
      "|     0|       0.0|\n",
      "|     0|       0.0|\n",
      "|     0|       0.0|\n",
      "|     0|       0.0|\n",
      "|     0|       0.0|\n",
      "|     0|       0.0|\n",
      "|     0|       0.0|\n",
      "+------+----------+\n",
      "only showing top 20 rows\n",
      "\n"
     ]
    }
   ],
   "source": [
    "results.select(['TARGET','prediction']).show()"
   ]
  },
  {
   "cell_type": "markdown",
   "metadata": {},
   "source": [
    "Confusion Matrix \n",
    "\n",
    "We will manually create the variables for true positives, true negatives,\n",
    "false positives, and false negatives to understand them better rather than\n",
    "using the direct inbuilt function."
   ]
  },
  {
   "cell_type": "code",
   "execution_count": 157,
   "metadata": {},
   "outputs": [],
   "source": [
    "tp = results[(results.TARGET == 1) & (results.prediction== 1)].count()\n",
    "tn = results[(results.TARGET == 0) & (results.prediction== 0)].count()\n",
    "fp = results[(results.TARGET == 0) & (results.prediction== 1)].count()\n",
    "fn = results[(results.TARGET == 1) & (results.prediction== 0)].count()"
   ]
  },
  {
   "cell_type": "code",
   "execution_count": 158,
   "metadata": {},
   "outputs": [
    {
     "name": "stdout",
     "output_type": "stream",
     "text": [
      "2 66750 1 6257\n"
     ]
    }
   ],
   "source": [
    "print(tp,tn,fp,fn)"
   ]
  },
  {
   "cell_type": "markdown",
   "metadata": {},
   "source": [
    "Accuracy\n",
    "\n",
    "Accuracy is the most basic metric for evaluating any classifier; however, this is not the right indicator of\n",
    "the performance of the model due to dependency on the target class balance."
   ]
  },
  {
   "cell_type": "code",
   "execution_count": 159,
   "metadata": {},
   "outputs": [
    {
     "name": "stdout",
     "output_type": "stream",
     "text": [
      "0.9142857142857143\n"
     ]
    }
   ],
   "source": [
    "accuracy=float((tp+tn) /(results.count()))\n",
    "print(accuracy)"
   ]
  },
  {
   "cell_type": "markdown",
   "metadata": {},
   "source": [
    "Recall\n",
    "\n",
    "Recall rate shows how much of the positive class cases we are able to\n",
    "predict correctly out of the total positive class observations."
   ]
  },
  {
   "cell_type": "code",
   "execution_count": 160,
   "metadata": {},
   "outputs": [
    {
     "name": "stdout",
     "output_type": "stream",
     "text": [
      "0.00031953986259785906\n"
     ]
    }
   ],
   "source": [
    "recall = float(tp/(tp + fn))\n",
    "print(recall)"
   ]
  },
  {
   "cell_type": "markdown",
   "metadata": {},
   "source": [
    "Precision\n",
    "\n",
    "Precision rate talks about the number of true positives predicted correctly out of all the predicted positives observations."
   ]
  },
  {
   "cell_type": "code",
   "execution_count": 161,
   "metadata": {},
   "outputs": [
    {
     "name": "stdout",
     "output_type": "stream",
     "text": [
      "0.6666666666666666\n"
     ]
    }
   ],
   "source": [
    "precision = float(tp) / (tp +fp)\n",
    "print(precision)"
   ]
  },
  {
   "cell_type": "raw",
   "metadata": {},
   "source": [
    "model_df=df.select('TARGET','NCT','GENDER','CAR','HOUSE','CNT_CHILDREN','AMT_INCOME_TOTAL','AMT_CREDIT','AMT_ANNUITY',\n",
    "        'INCOME_TYPE','EDU_TYPE','FAMILY','HOUSE_TYPE','AGE','YEAR_EMP','FLAG_MOBIL','FLAG_EMP_PHONE','FLAG_WORK_PHONE',\n",
    "        'FLAG_CONT_MOBILE','CNT_FAM_MEMBERS','REGION_RATING_CLIENT','REGION_RATING_CLIENT_W_CITY','REG_REGION_NOT_WORK_REGION',\n",
    "        'REG_REGION_NOT_LIVE_REGION','FLAG_DOCUMENT_2','FLAG_DOCUMENT_3','FLAG_DOCUMENT_4','FLAG_DOCUMENT_5','FLAG_DOCUMENT_6',\n",
    "        'FLAG_DOCUMENT_7','FLAG_DOCUMENT_8','FLAG_DOCUMENT_9')"
   ]
  },
  {
   "cell_type": "code",
   "execution_count": 162,
   "metadata": {},
   "outputs": [],
   "source": [
    "from pyspark.ml.evaluation import BinaryClassificationEvaluator\n"
   ]
  },
  {
   "cell_type": "markdown",
   "metadata": {},
   "source": [
    "# Build and Train Random Forest Model"
   ]
  },
  {
   "cell_type": "markdown",
   "metadata": {},
   "source": [
    " A decision tree falls under the supervised category of machine learning\n",
    "and uses frequency tables for making the predictions. One advantage of a\n",
    "decision tree is that it can handle both categorical and numerical variables.\n",
    "\n",
    "As the name suggests, random forests are made up of many trees: a\n",
    "lot of decision trees. They are quite popular and sometimes are the go-to\n",
    "method for supervised machine learning. Random forests can also be\n",
    "used for classification and regression."
   ]
  },
  {
   "cell_type": "code",
   "execution_count": 172,
   "metadata": {},
   "outputs": [],
   "source": [
    "rf_classifier=RandomForestClassifier(labelCol='TARGET',numTrees=50).fit(training_df)"
   ]
  },
  {
   "cell_type": "markdown",
   "metadata": {},
   "source": [
    "We build and train the random forest model using features\n",
    "such as input and Status as the output colum. There are many hyperparameters that can be set to tweak the\n",
    "performance of the model, but we are chosing the deafault ones here\n",
    "except for one that is the number of decision trees that we want to build."
   ]
  },
  {
   "cell_type": "code",
   "execution_count": 173,
   "metadata": {},
   "outputs": [],
   "source": [
    "rf_predictions=rf_classifier.transform(test_df)"
   ]
  },
  {
   "cell_type": "code",
   "execution_count": 174,
   "metadata": {},
   "outputs": [
    {
     "name": "stdout",
     "output_type": "stream",
     "text": [
      "+--------------------+------+--------------------+--------------------+----------+\n",
      "|            features|TARGET|       rawPrediction|         probability|prediction|\n",
      "+--------------------+------+--------------------+--------------------+----------+\n",
      "|(47,[0,1,2,3,4,5,...|     0|[45.0328952476073...|[0.90065790495214...|       0.0|\n",
      "|(47,[0,1,2,3,4,5,...|     0|[45.5674739024310...|[0.91134947804862...|       0.0|\n",
      "|(47,[0,1,2,3,4,5,...|     0|[45.6144565681897...|[0.91228913136379...|       0.0|\n",
      "|(47,[0,1,2,3,4,5,...|     0|[45.1282596285064...|[0.90256519257012...|       0.0|\n",
      "|(47,[0,1,2,3,4,5,...|     0|[45.5460087609593...|[0.91092017521918...|       0.0|\n",
      "|(47,[0,1,2,3,4,5,...|     0|[45.5354332800193...|[0.91070866560038...|       0.0|\n",
      "|(47,[0,1,2,3,4,5,...|     0|[45.6903421365444...|[0.91380684273088...|       0.0|\n",
      "|(47,[0,1,2,3,4,5,...|     0|[45.6218943293139...|[0.91243788658628...|       0.0|\n",
      "|(47,[0,1,2,3,4,5,...|     0|[45.1961860199485...|[0.90392372039897...|       0.0|\n",
      "|(47,[0,1,2,3,4,5,...|     0|[45.5829138015496...|[0.91165827603099...|       0.0|\n",
      "|(47,[0,1,2,3,4,5,...|     0|[45.0544871766751...|[0.90108974353350...|       0.0|\n",
      "|(47,[0,1,2,3,4,5,...|     0|[45.4043099176859...|[0.90808619835371...|       0.0|\n",
      "|(47,[0,1,2,3,4,5,...|     0|[45.1902424776242...|[0.90380484955248...|       0.0|\n",
      "|(47,[0,1,2,3,4,5,...|     0|[45.1519611272978...|[0.90303922254595...|       0.0|\n",
      "|(47,[0,1,2,3,4,5,...|     0|[45.3937344367459...|[0.90787468873491...|       0.0|\n",
      "|(47,[0,1,2,3,4,5,...|     0|[45.2257335791291...|[0.90451467158258...|       0.0|\n",
      "|(47,[0,1,2,3,4,5,...|     0|[45.1902424776242...|[0.90380484955248...|       0.0|\n",
      "|(47,[0,1,2,3,4,5,...|     0|[45.1745940908807...|[0.90349188181761...|       0.0|\n",
      "|(47,[0,1,2,3,4,5,...|     0|[45.2599438648335...|[0.90519887729667...|       0.0|\n",
      "|(47,[0,1,2,3,4,5,...|     0|[45.4948692727109...|[0.90989738545421...|       0.0|\n",
      "+--------------------+------+--------------------+--------------------+----------+\n",
      "only showing top 20 rows\n",
      "\n"
     ]
    }
   ],
   "source": [
    "rf_predictions.show()"
   ]
  },
  {
   "cell_type": "markdown",
   "metadata": {},
   "source": [
    "The first column in the predictions table is that of input features of the\n",
    "test data. The second column is the actual label or output of the test data.\n",
    "The third column (rawPrediction) represents the measure of confidence\n",
    "for both possible outputs. The fourth column is that of conditional\n",
    "probability of each class label, and the final column is the prediction by the\n",
    "random forest classifier."
   ]
  },
  {
   "cell_type": "code",
   "execution_count": 176,
   "metadata": {},
   "outputs": [],
   "source": [
    "from pyspark.ml.evaluation import MulticlassClassificationEvaluator\n",
    "from pyspark.ml.evaluation import BinaryClassificationEvaluator"
   ]
  },
  {
   "cell_type": "code",
   "execution_count": 177,
   "metadata": {},
   "outputs": [],
   "source": [
    "rf_accuracy=MulticlassClassificationEvaluator(labelCol='TARGET',metricName='accuracy').evaluate(rf_predictions)"
   ]
  },
  {
   "cell_type": "code",
   "execution_count": 178,
   "metadata": {},
   "outputs": [
    {
     "name": "stdout",
     "output_type": "stream",
     "text": [
      "The accuracy of RF on test data is 91%\n"
     ]
    }
   ],
   "source": [
    "print('The accuracy of RF on test data is {0:.0%}'.format(rf_accuracy))"
   ]
  },
  {
   "cell_type": "code",
   "execution_count": 179,
   "metadata": {},
   "outputs": [],
   "source": [
    "rf_precision=MulticlassClassificationEvaluator(labelCol='TARGET',metricName='weightedPrecision').evaluate(rf_predictions)"
   ]
  },
  {
   "cell_type": "code",
   "execution_count": 180,
   "metadata": {},
   "outputs": [
    {
     "name": "stdout",
     "output_type": "stream",
     "text": [
      "The precision rate on test data is 84%\n"
     ]
    }
   ],
   "source": [
    "print('The precision rate on test data is {0:.0%}'.format(rf_precision))"
   ]
  },
  {
   "cell_type": "code",
   "execution_count": 181,
   "metadata": {},
   "outputs": [
    {
     "data": {
      "text/plain": [
       "SparseVector(47, {0: 0.0034, 1: 0.0389, 2: 0.001, 4: 0.008, 5: 0.0131, 6: 0.026, 7: 0.0115, 8: 0.0643, 9: 0.0722, 10: 0.001, 11: 0.0013, 12: 0.0162, 14: 0.0013, 15: 0.023, 16: 0.0639, 17: 0.0005, 18: 0.0028, 19: 0.0036, 20: 0.0117, 21: 0.0018, 22: 0.0018, 23: 0.0014, 24: 0.016, 25: 0.0029, 26: 0.0026, 27: 0.0018, 28: 0.111, 29: 0.1603, 30: 0.1478, 31: 0.0307, 32: 0.0009, 33: 0.0031, 34: 0.0615, 35: 0.0014, 37: 0.0007, 38: 0.047, 40: 0.0, 41: 0.0424, 46: 0.0013})"
      ]
     },
     "execution_count": 181,
     "metadata": {},
     "output_type": "execute_result"
    }
   ],
   "source": [
    "rf_classifier.featureImportances"
   ]
  },
  {
   "cell_type": "markdown",
   "metadata": {},
   "source": [
    "We used five features and the importance can be found out using the\n",
    "feature importance function. To know which input feature is mapped to\n",
    "which index values, we can use metadata information."
   ]
  },
  {
   "cell_type": "code",
   "execution_count": 182,
   "metadata": {},
   "outputs": [
    {
     "data": {
      "text/plain": [
       "{'numeric': [{'idx': 4, 'name': 'CNT_CHILDREN'},\n",
       "  {'idx': 5, 'name': 'AMT_INCOME_TOTAL'},\n",
       "  {'idx': 6, 'name': 'AMT_CREDIT'},\n",
       "  {'idx': 7, 'name': 'AMT_ANNUITY'},\n",
       "  {'idx': 28, 'name': 'AGE'},\n",
       "  {'idx': 29, 'name': 'YEAR_EMP'},\n",
       "  {'idx': 30, 'name': 'FLAG_MOBIL'},\n",
       "  {'idx': 31, 'name': 'FLAG_EMP_PHONE'},\n",
       "  {'idx': 32, 'name': 'FLAG_WORK_PHONE'},\n",
       "  {'idx': 33, 'name': 'FLAG_CONT_MOBILE'},\n",
       "  {'idx': 34, 'name': 'CNT_FAM_MEMBERS'},\n",
       "  {'idx': 35, 'name': 'REGION_RATING_CLIENT'},\n",
       "  {'idx': 36, 'name': 'REGION_RATING_CLIENT_W_CITY'},\n",
       "  {'idx': 37, 'name': 'REG_REGION_NOT_WORK_REGION'},\n",
       "  {'idx': 38, 'name': 'REG_REGION_NOT_LIVE_REGION'},\n",
       "  {'idx': 39, 'name': 'FLAG_DOCUMENT_2'},\n",
       "  {'idx': 40, 'name': 'FLAG_DOCUMENT_3'},\n",
       "  {'idx': 41, 'name': 'FLAG_DOCUMENT_4'},\n",
       "  {'idx': 42, 'name': 'FLAG_DOCUMENT_5'},\n",
       "  {'idx': 43, 'name': 'FLAG_DOCUMENT_6'},\n",
       "  {'idx': 44, 'name': 'FLAG_DOCUMENT_7'},\n",
       "  {'idx': 45, 'name': 'FLAG_DOCUMENT_8'},\n",
       "  {'idx': 46, 'name': 'FLAG_DOCUMENT_9'}],\n",
       " 'binary': [{'idx': 0, 'name': 'NCT_Vector_Cash loans'},\n",
       "  {'idx': 1, 'name': 'GENDER_Vector_F'},\n",
       "  {'idx': 2, 'name': 'CAR_Vector_N'},\n",
       "  {'idx': 3, 'name': 'HOUSE_Vector_Y'},\n",
       "  {'idx': 8, 'name': 'INCOME_TYPE_Vector_Working'},\n",
       "  {'idx': 9, 'name': 'INCOME_TYPE_Vector_Pensioner'},\n",
       "  {'idx': 10, 'name': 'INCOME_TYPE_Vector_Commercial associate'},\n",
       "  {'idx': 11, 'name': 'INCOME_TYPE_Vector_State servant'},\n",
       "  {'idx': 12, 'name': 'INCOME_TYPE_Vector_Unemployed'},\n",
       "  {'idx': 13, 'name': 'INCOME_TYPE_Vector_Student'},\n",
       "  {'idx': 14, 'name': 'INCOME_TYPE_Vector_Maternity leave'},\n",
       "  {'idx': 15, 'name': 'EDU_TYPE_Vector_Secondary / secondary special'},\n",
       "  {'idx': 16, 'name': 'EDU_TYPE_Vector_Higher education'},\n",
       "  {'idx': 17, 'name': 'EDU_TYPE_Vector_Incomplete higher'},\n",
       "  {'idx': 18, 'name': 'EDU_TYPE_Vector_Lower secondary'},\n",
       "  {'idx': 19, 'name': 'FAMILY_Vector_Married'},\n",
       "  {'idx': 20, 'name': 'FAMILY_Vector_Single / not married'},\n",
       "  {'idx': 21, 'name': 'FAMILY_Vector_Civil marriage'},\n",
       "  {'idx': 22, 'name': 'FAMILY_Vector_Separated'},\n",
       "  {'idx': 23, 'name': 'HOUSE_TYPE_Vector_House / apartment'},\n",
       "  {'idx': 24, 'name': 'HOUSE_TYPE_Vector_With parents'},\n",
       "  {'idx': 25, 'name': 'HOUSE_TYPE_Vector_Municipal apartment'},\n",
       "  {'idx': 26, 'name': 'HOUSE_TYPE_Vector_Rented apartment'},\n",
       "  {'idx': 27, 'name': 'HOUSE_TYPE_Vector_Office apartment'}]}"
      ]
     },
     "execution_count": 182,
     "metadata": {},
     "output_type": "execute_result"
    }
   ],
   "source": [
    "df.schema[\"features\"].metadata[\"ml_attr\"][\"attrs\"]"
   ]
  },
  {
   "cell_type": "markdown",
   "metadata": {},
   "source": [
    "In feature imprtance analysis we obtain, the most importnant numerical value is CNT_CHILDREN and most importnat binary featue is GENDER_Vector_F. "
   ]
  },
  {
   "cell_type": "markdown",
   "metadata": {},
   "source": [
    "# Conclusion"
   ]
  },
  {
   "cell_type": "markdown",
   "metadata": {},
   "source": [
    "\n",
    "Machine Learning is the mechanism through which we try to make machines learn without explicitly programming them to do so. Machine Learning is one of the most talked about topics in the last few years. More and more businesses want to adopt it to maintain the competitive edge; however, very few really have the right resources and the appropriate data to implement it.\n",
    "\n",
    "In this project, we implemented building blocks of logistic regression and random forest, converting categorical columns into numerical features, and building a logistic regression model from scratch using PySpark.\n",
    "\n",
    "Data processing is a critical step required to perform Machine Learning as we need to clean, filter, merge, and transform our data to bring it to the desired form so that we are able to train Machine Learning models. As seen in project, most of the effort are shown in data processing while implementing feature engineering and data cleaning. \n",
    "\n",
    "After retrieving a desired dataset, we have implemented the pyspark ML libraries. Model Evaluation parameters such as Accuracy and Precisions showed that the trained data gave over %90 result on test data, so we can consider the model built is reasonable and can be implemented on selected case. \n"
   ]
  },
  {
   "cell_type": "markdown",
   "metadata": {},
   "source": [
    "# Bibliography"
   ]
  },
  {
   "cell_type": "markdown",
   "metadata": {},
   "source": [
    "* Li, S. (n.d.). Towards Data Science. Retrieved from https://towardsdatascience.com/machine-learning-with-pyspark-and-mllib-solving-a-binary-classification-problem-96396065d2aa\n",
    "* Meyer, J. (n.d.). Caffeine-Powered Life. Retrieved from Random Forests with PySpark: https://jarrettmeyer.com/2017/05/04/random-forests-with-pyspark\n",
    "* Singh, P. (n.d.). Machine Learning with PySpark. APRESS.\n",
    "* Spark. (n.d.). Spark Documentation. Retrieved from Classification and regression: https://spark.apache.org/docs/latest/ml-classification-regression.html\n",
    "* Spark, A. (n.d.). Spark Documentation. Retrieved from ML Tuning: model selection and hyperparameter tuning: https://spark.apache.org/docs/2.2.0/ml-tuning.html\n",
    "\n",
    "\n",
    "    \n",
    "    "
   ]
  },
  {
   "cell_type": "code",
   "execution_count": null,
   "metadata": {},
   "outputs": [],
   "source": []
  }
 ],
 "metadata": {
  "kernelspec": {
   "display_name": "Python 3",
   "language": "python",
   "name": "python3"
  },
  "language_info": {
   "codemirror_mode": {
    "name": "ipython",
    "version": 3
   },
   "file_extension": ".py",
   "mimetype": "text/x-python",
   "name": "python",
   "nbconvert_exporter": "python",
   "pygments_lexer": "ipython3",
   "version": "3.7.3"
  }
 },
 "nbformat": 4,
 "nbformat_minor": 2
}
